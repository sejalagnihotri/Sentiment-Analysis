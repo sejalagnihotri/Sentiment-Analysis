{
 "cells": [
  {
   "cell_type": "code",
   "execution_count": 1,
   "id": "direct-founder",
   "metadata": {},
   "outputs": [],
   "source": [
    "import pandas as pd\n",
    "import numpy as np\n",
    "import matplotlib.pyplot as plt\n",
    "from sklearn.metrics.pairwise import cosine_similarity\n",
    "import nltk\n",
    "from nltk import tokenize\n",
    "from nltk.tokenize import word_tokenize\n",
    "from nltk import pos_tag\n",
    "from sklearn.feature_extraction.text import TfidfVectorizer\n",
    "from nltk.stem import PorterStemmer\n",
    "from sklearn.metrics import classification_report, accuracy_score, f1_score\n",
    "from sklearn.utils import shuffle\n",
    "from textblob import TextBlob\n",
    "import subprocess"
   ]
  },
  {
   "cell_type": "markdown",
   "id": "a98fb106-22ae-42df-a621-eb3ebc884d2a",
   "metadata": {},
   "source": [
    "# Reading and preparing data"
   ]
  },
  {
   "cell_type": "code",
   "execution_count": 2,
   "id": "orange-thanksgiving",
   "metadata": {},
   "outputs": [
    {
     "data": {
      "text/html": [
       "<div>\n",
       "<style scoped>\n",
       "    .dataframe tbody tr th:only-of-type {\n",
       "        vertical-align: middle;\n",
       "    }\n",
       "\n",
       "    .dataframe tbody tr th {\n",
       "        vertical-align: top;\n",
       "    }\n",
       "\n",
       "    .dataframe thead th {\n",
       "        text-align: right;\n",
       "    }\n",
       "</style>\n",
       "<table border=\"1\" class=\"dataframe\">\n",
       "  <thead>\n",
       "    <tr style=\"text-align: right;\">\n",
       "      <th></th>\n",
       "      <th>1</th>\n",
       "    </tr>\n",
       "    <tr>\n",
       "      <th>0</th>\n",
       "      <th></th>\n",
       "    </tr>\n",
       "  </thead>\n",
       "  <tbody>\n",
       "    <tr>\n",
       "      <th>joy</th>\n",
       "      <td>On days when I feel close to my partner and ot...</td>\n",
       "    </tr>\n",
       "    <tr>\n",
       "      <th>fear</th>\n",
       "      <td>Every time I imagine that someone I love or I ...</td>\n",
       "    </tr>\n",
       "    <tr>\n",
       "      <th>anger</th>\n",
       "      <td>When I had been obviously unjustly treated and...</td>\n",
       "    </tr>\n",
       "    <tr>\n",
       "      <th>sadness</th>\n",
       "      <td>When I think about the short time that we live...</td>\n",
       "    </tr>\n",
       "    <tr>\n",
       "      <th>disgust</th>\n",
       "      <td>At a gathering I found myself involuntarily si...</td>\n",
       "    </tr>\n",
       "    <tr>\n",
       "      <th>...</th>\n",
       "      <td>...</td>\n",
       "    </tr>\n",
       "    <tr>\n",
       "      <th>shame</th>\n",
       "      <td>Two years back someone invited me to be the tu...</td>\n",
       "    </tr>\n",
       "    <tr>\n",
       "      <th>shame</th>\n",
       "      <td>I had taken the responsibility to do something...</td>\n",
       "    </tr>\n",
       "    <tr>\n",
       "      <th>fear</th>\n",
       "      <td>I was at home and I heard a loud sound of spit...</td>\n",
       "    </tr>\n",
       "    <tr>\n",
       "      <th>guilt</th>\n",
       "      <td>I did not do the homework that the teacher had...</td>\n",
       "    </tr>\n",
       "    <tr>\n",
       "      <th>fear</th>\n",
       "      <td>I had shouted at my younger brother and he was...</td>\n",
       "    </tr>\n",
       "  </tbody>\n",
       "</table>\n",
       "<p>7516 rows × 1 columns</p>\n",
       "</div>"
      ],
      "text/plain": [
       "                                                         1\n",
       "0                                                         \n",
       "joy      On days when I feel close to my partner and ot...\n",
       "fear     Every time I imagine that someone I love or I ...\n",
       "anger    When I had been obviously unjustly treated and...\n",
       "sadness  When I think about the short time that we live...\n",
       "disgust  At a gathering I found myself involuntarily si...\n",
       "...                                                    ...\n",
       "shame    Two years back someone invited me to be the tu...\n",
       "shame    I had taken the responsibility to do something...\n",
       "fear     I was at home and I heard a loud sound of spit...\n",
       "guilt    I did not do the homework that the teacher had...\n",
       "fear     I had shouted at my younger brother and he was...\n",
       "\n",
       "[7516 rows x 1 columns]"
      ]
     },
     "execution_count": 2,
     "metadata": {},
     "output_type": "execute_result"
    }
   ],
   "source": [
    "isear=pd.read_csv(\"ISEAR.csv\",header=None)\n",
    "isear=isear.drop(labels=[2],axis=1).set_index(0)\n",
    "isear"
   ]
  },
  {
   "cell_type": "code",
   "execution_count": 3,
   "id": "finished-macintosh",
   "metadata": {},
   "outputs": [
    {
     "data": {
      "text/plain": [
       "(array(['anger', 'disgust', 'fear', 'guilt', 'guit', 'joy', 'sadness',\n",
       "        'shame'], dtype=object),\n",
       " array([1079, 1066, 1076, 1049,    1, 1092, 1082, 1071]))"
      ]
     },
     "execution_count": 3,
     "metadata": {},
     "output_type": "execute_result"
    }
   ],
   "source": [
    "np.unique(isear.index,return_counts=True)"
   ]
  },
  {
   "cell_type": "code",
   "execution_count": 4,
   "id": "negative-fiber",
   "metadata": {},
   "outputs": [
    {
     "data": {
      "text/html": [
       "<div>\n",
       "<style scoped>\n",
       "    .dataframe tbody tr th:only-of-type {\n",
       "        vertical-align: middle;\n",
       "    }\n",
       "\n",
       "    .dataframe tbody tr th {\n",
       "        vertical-align: top;\n",
       "    }\n",
       "\n",
       "    .dataframe thead th {\n",
       "        text-align: right;\n",
       "    }\n",
       "</style>\n",
       "<table border=\"1\" class=\"dataframe\">\n",
       "  <thead>\n",
       "    <tr style=\"text-align: right;\">\n",
       "      <th></th>\n",
       "      <th>1</th>\n",
       "    </tr>\n",
       "    <tr>\n",
       "      <th>0</th>\n",
       "      <th></th>\n",
       "    </tr>\n",
       "  </thead>\n",
       "  <tbody>\n",
       "    <tr>\n",
       "      <th>anger</th>\n",
       "      <td>When I had been obviously unjustly treated and...</td>\n",
       "    </tr>\n",
       "    <tr>\n",
       "      <th>anger</th>\n",
       "      <td>When a car is overtaking another and I am forc...</td>\n",
       "    </tr>\n",
       "    <tr>\n",
       "      <th>anger</th>\n",
       "      <td>When one is unjustly accused of something one ...</td>\n",
       "    </tr>\n",
       "    <tr>\n",
       "      <th>anger</th>\n",
       "      <td>When my partner was attacked and lost three te...</td>\n",
       "    </tr>\n",
       "    <tr>\n",
       "      <th>anger</th>\n",
       "      <td>Unjust accusations directed at me and my way o...</td>\n",
       "    </tr>\n",
       "    <tr>\n",
       "      <th>...</th>\n",
       "      <td>...</td>\n",
       "    </tr>\n",
       "    <tr>\n",
       "      <th>joy</th>\n",
       "      <td>When I received a letter from the university t...</td>\n",
       "    </tr>\n",
       "    <tr>\n",
       "      <th>joy</th>\n",
       "      <td>I had a picnic with old classmates, we chatted...</td>\n",
       "    </tr>\n",
       "    <tr>\n",
       "      <th>joy</th>\n",
       "      <td>It was the first time that I gave a birthday p...</td>\n",
       "    </tr>\n",
       "    <tr>\n",
       "      <th>joy</th>\n",
       "      <td>In August,1983, the long awaited \"big envelope...</td>\n",
       "    </tr>\n",
       "    <tr>\n",
       "      <th>joy</th>\n",
       "      <td>I received a letter from a distant friend.</td>\n",
       "    </tr>\n",
       "  </tbody>\n",
       "</table>\n",
       "<p>5395 rows × 1 columns</p>\n",
       "</div>"
      ],
      "text/plain": [
       "                                                       1\n",
       "0                                                       \n",
       "anger  When I had been obviously unjustly treated and...\n",
       "anger  When a car is overtaking another and I am forc...\n",
       "anger  When one is unjustly accused of something one ...\n",
       "anger  When my partner was attacked and lost three te...\n",
       "anger  Unjust accusations directed at me and my way o...\n",
       "...                                                  ...\n",
       "joy    When I received a letter from the university t...\n",
       "joy    I had a picnic with old classmates, we chatted...\n",
       "joy    It was the first time that I gave a birthday p...\n",
       "joy    In August,1983, the long awaited \"big envelope...\n",
       "joy           I received a letter from a distant friend.\n",
       "\n",
       "[5395 rows x 1 columns]"
      ]
     },
     "execution_count": 4,
     "metadata": {},
     "output_type": "execute_result"
    }
   ],
   "source": [
    "df=isear.loc[['anger','disgust','fear','sadness','joy']]\n",
    "df"
   ]
  },
  {
   "cell_type": "markdown",
   "id": "b4776702-b861-4deb-8dc9-46ae09fdf8b0",
   "metadata": {},
   "source": [
    "# Expanding dataset with lexicon"
   ]
  },
  {
   "cell_type": "code",
   "execution_count": 5,
   "id": "composite-middle",
   "metadata": {},
   "outputs": [],
   "source": [
    "lexi=pd.read_csv(\"NRC_emotion_lexicon_list.txt\",delimiter=\"\\t\",header=None)\n",
    "lexi=lexi.dropna()"
   ]
  },
  {
   "cell_type": "code",
   "execution_count": 7,
   "id": "increased-tenant",
   "metadata": {},
   "outputs": [],
   "source": [
    "lexiFilt=lexi\n",
    "lexiFilt=lexiFilt.set_index(2)\n",
    "lexiFilt=lexiFilt.loc[1]\n",
    "lexiFilt=lexiFilt.set_index(1)\n",
    "lexiFilt[1]=lexiFilt[0]\n",
    "lexiFilt=lexiFilt.drop(0,axis=1)"
   ]
  },
  {
   "cell_type": "code",
   "execution_count": 8,
   "id": "cooperative-albany",
   "metadata": {},
   "outputs": [],
   "source": [
    "Emotions=['anger', 'disgust', 'fear', 'joy', 'sadness']\n",
    "for i in Emotions:\n",
    "    df=df.append(lexiFilt.loc[i])"
   ]
  },
  {
   "cell_type": "code",
   "execution_count": 9,
   "id": "allied-canyon",
   "metadata": {},
   "outputs": [
    {
     "data": {
      "text/html": [
       "<div>\n",
       "<style scoped>\n",
       "    .dataframe tbody tr th:only-of-type {\n",
       "        vertical-align: middle;\n",
       "    }\n",
       "\n",
       "    .dataframe tbody tr th {\n",
       "        vertical-align: top;\n",
       "    }\n",
       "\n",
       "    .dataframe thead th {\n",
       "        text-align: right;\n",
       "    }\n",
       "</style>\n",
       "<table border=\"1\" class=\"dataframe\">\n",
       "  <thead>\n",
       "    <tr style=\"text-align: right;\">\n",
       "      <th></th>\n",
       "      <th>1</th>\n",
       "    </tr>\n",
       "  </thead>\n",
       "  <tbody>\n",
       "    <tr>\n",
       "      <th>anger</th>\n",
       "      <td>When I had been obviously unjustly treated and...</td>\n",
       "    </tr>\n",
       "    <tr>\n",
       "      <th>anger</th>\n",
       "      <td>dupe</td>\n",
       "    </tr>\n",
       "    <tr>\n",
       "      <th>anger</th>\n",
       "      <td>duplicity</td>\n",
       "    </tr>\n",
       "    <tr>\n",
       "      <th>anger</th>\n",
       "      <td>duress</td>\n",
       "    </tr>\n",
       "    <tr>\n",
       "      <th>anger</th>\n",
       "      <td>dying</td>\n",
       "    </tr>\n",
       "    <tr>\n",
       "      <th>...</th>\n",
       "      <td>...</td>\n",
       "    </tr>\n",
       "    <tr>\n",
       "      <th>sadness</th>\n",
       "      <td>I couldn't sleep, and began to remind of my ch...</td>\n",
       "    </tr>\n",
       "    <tr>\n",
       "      <th>sadness</th>\n",
       "      <td>I felt sad when I was despised by another person.</td>\n",
       "    </tr>\n",
       "    <tr>\n",
       "      <th>sadness</th>\n",
       "      <td>Some colleagues decided to go out on a Saturda...</td>\n",
       "    </tr>\n",
       "    <tr>\n",
       "      <th>sadness</th>\n",
       "      <td>During an informal talk with a friend when we ...</td>\n",
       "    </tr>\n",
       "    <tr>\n",
       "      <th>sadness</th>\n",
       "      <td>wrongly</td>\n",
       "    </tr>\n",
       "  </tbody>\n",
       "</table>\n",
       "<p>11056 rows × 1 columns</p>\n",
       "</div>"
      ],
      "text/plain": [
       "                                                         1\n",
       "anger    When I had been obviously unjustly treated and...\n",
       "anger                                                 dupe\n",
       "anger                                            duplicity\n",
       "anger                                               duress\n",
       "anger                                                dying\n",
       "...                                                    ...\n",
       "sadness  I couldn't sleep, and began to remind of my ch...\n",
       "sadness  I felt sad when I was despised by another person.\n",
       "sadness  Some colleagues decided to go out on a Saturda...\n",
       "sadness  During an informal talk with a friend when we ...\n",
       "sadness                                            wrongly\n",
       "\n",
       "[11056 rows x 1 columns]"
      ]
     },
     "execution_count": 9,
     "metadata": {},
     "output_type": "execute_result"
    }
   ],
   "source": [
    "df=df.sort_index()\n",
    "df"
   ]
  },
  {
   "cell_type": "code",
   "execution_count": 10,
   "id": "close-virus",
   "metadata": {},
   "outputs": [
    {
     "data": {
      "text/plain": [
       "(array(['anger', 'disgust', 'fear', 'joy', 'sadness'], dtype=object),\n",
       " array([2326, 2124, 2552, 1781, 2273]))"
      ]
     },
     "execution_count": 10,
     "metadata": {},
     "output_type": "execute_result"
    }
   ],
   "source": [
    "np.unique(df.index, return_counts=1)"
   ]
  },
  {
   "cell_type": "code",
   "execution_count": 11,
   "id": "hidden-hawaiian",
   "metadata": {},
   "outputs": [],
   "source": [
    "stopwords=['i', 'me', 'my', 'myself', 'we', 'our', 'ours', 'ourselves', 'you', \"you're\", \"you've\", \"you'll\", \"you'd\", 'your', 'yours', 'yourself', 'yourselves', 'he', 'him', 'his', 'himself', 'she', \"she's\", 'her', 'hers', 'herself', 'it', \"it's\", 'its', 'itself', 'they', 'them', 'their', 'theirs', 'themselves', 'what', 'which', 'who', 'whom', 'this', 'that', \"that'll\", 'these', 'those', 'am', 'is', 'are', 'was', 'were', 'be', 'been', 'being', 'have', 'has', 'had', 'having', 'do', 'does', 'did', 'doing', 'a', 'an', 'the', 'and', 'but', 'if', 'or', 'because', 'as', 'until', 'while', 'of', 'at', 'by', 'for', 'with', 'about', 'against', 'between', 'into', 'through', 'during', 'before', 'after', 'above', 'below', 'to', 'from', 'up', 'down', 'in', 'out', 'on', 'off', 'over', 'under', 'again', 'further', 'then', 'once', 'here', 'there', 'when', 'where', 'why', 'how', 'all', 'any', 'both', 'each', 'few', 'more', 'most', 'other', 'some', 'such', 'no', 'nor', 'only', 'own', 'same', 'so', 'than', 'too', 'very', 's', 't', 'can', 'will', 'just', 'don', \"don't\", 'should', \"should've\", 'now', 'd', 'll', 'm', 'o', 're', 've', 'y', 'ain', 'aren', \"aren't\", 'couldn', \"couldn't\", 'didn', \"didn't\", 'doesn', \"doesn't\", 'hadn', \"hadn't\", 'hasn', \"hasn't\", 'haven', \"haven't\", 'isn', \"isn't\", 'ma', 'mightn', \"mightn't\", 'mustn', \"mustn't\", 'needn', \"needn't\", 'shan', \"shan't\", 'shouldn', \"shouldn't\", 'wasn', \"wasn't\", 'weren', \"weren't\", 'won', \"won't\", 'wouldn', \"wouldn't\"]\n",
    "punkts='''\"#$%&\\'()*+,-./:;<=>@[\\\\]^_`{|}~'''"
   ]
  },
  {
   "cell_type": "markdown",
   "id": "98cde227-79c1-4e34-9312-1ead3f5c4cc7",
   "metadata": {},
   "source": [
    "# Data preparation"
   ]
  },
  {
   "cell_type": "code",
   "execution_count": 12,
   "id": "attended-saudi",
   "metadata": {},
   "outputs": [],
   "source": [
    "def CorFilt(i):\n",
    "    ps = PorterStemmer()\n",
    "    \n",
    "    buff=word_tokenize(i.lower().replace(\"\\n\",\"\").replace(\"  \",\" \").replace(\"n't\",\" not\"))\n",
    "    buff2=\"\"\n",
    "    for j in pos_tag(buff):\n",
    "        if j[-1]=='RB' and j[0]!=\"not\":\n",
    "            pass\n",
    "        else:\n",
    "            buff2+=j[0]+\" \"\n",
    "    buff2=buff2.replace(\"not \",\"NOT\")\n",
    "    buff=word_tokenize(buff2.strip())\n",
    "    ans=\"\"\n",
    "    for j in buff:\n",
    "        if (j not in punkts) and (j not in stopwords):\n",
    "            if j==\"!\":\n",
    "                ans+=\" XXEXCLMARK\"\n",
    "            elif j==\"?\":\n",
    "                ans+=\" XXQUESMARK\"\n",
    "            else:\n",
    "                if j!=\"'s\" and j!=\"``\":\n",
    "                    ans+=\" \"+ps.stem(j)\n",
    "    return ans.strip()"
   ]
  },
  {
   "cell_type": "code",
   "execution_count": 13,
   "id": "excessive-baking",
   "metadata": {},
   "outputs": [],
   "source": [
    "def TFIDF(df):\n",
    "    Corpus=[]\n",
    "    for i in df[1]:\n",
    "        Corpus.append(CorFilt(i))\n",
    "\n",
    "    vectorizer = TfidfVectorizer()\n",
    "    vectorizer.fit(Corpus)\n",
    "    X=vectorizer.transform(Corpus).toarray()\n",
    "    \n",
    "    return X,vectorizer"
   ]
  },
  {
   "cell_type": "code",
   "execution_count": 14,
   "id": "selective-identification",
   "metadata": {},
   "outputs": [],
   "source": [
    "def EmoVekt(df):\n",
    "    X,vectorizer=TFIDF(df)\n",
    "    counterS=0\n",
    "    counterE=0\n",
    "    emocount=0\n",
    "    EmoVec=np.zeros((5,X.shape[-1]))\n",
    "    for i in np.unique(df.index):\n",
    "        counterE+=df.loc[i].shape[0]\n",
    "        EmoVec[emocount]=np.mean(X[counterS:counterE,:], axis=0)\n",
    "        emocount+=1\n",
    "        counterS=counterE\n",
    "    return EmoVec,vectorizer"
   ]
  },
  {
   "cell_type": "code",
   "execution_count": 15,
   "id": "structured-recovery",
   "metadata": {},
   "outputs": [],
   "source": [
    "EmoVec,vectorizer=EmoVekt(df)"
   ]
  },
  {
   "cell_type": "code",
   "execution_count": 18,
   "id": "million-custody",
   "metadata": {},
   "outputs": [],
   "source": [
    "import pickle\n",
    "    \n",
    "f=open(\"EmoVec\",\"wb\")\n",
    "pickle.dump(EmoVec,f)\n",
    "f.close()\n",
    "\n",
    "f=open(\"vectorizer\",\"wb\")\n",
    "pickle.dump(vectorizer,f)\n",
    "f.close()"
   ]
  },
  {
   "cell_type": "code",
   "execution_count": 21,
   "id": "operating-sperm",
   "metadata": {},
   "outputs": [],
   "source": [
    "def EmowavE(sent,vectorizer=vectorizer,EmoVec=EmoVec,trans=True):\n",
    "    \n",
    "    transDict={'gu':'Gujarati',\n",
    "               'hi':'Hindi'}\n",
    "    # Translate from any language to english\n",
    "    if trans:\n",
    "        analysis = TextBlob(sent)\n",
    "        if analysis.detect_language()!='en':\n",
    "            try:\n",
    "                print(f\"\\nInput text was in {transDict[analysis.detect_language()]}\")\n",
    "            except:\n",
    "                print(f\"\\nInput text was not in English\")\n",
    "            print(\"\\nTranslating...\")\n",
    "            output=subprocess.check_output(['trans','-b',sent])\n",
    "            sent=output.decode('utf-8').strip()\n",
    "            print(f\"\\nTranslation in English: {sent}\")\n",
    "        \n",
    "    EmoBuff=vectorizer.transform([CorFilt(sent)])\n",
    "    EmoDict={0:'anger',\n",
    "             1:'disgust',\n",
    "             2:'fear',\n",
    "             3:'joy',\n",
    "             4:'sadness'}\n",
    "    return EmoDict[np.argmax([float(cosine_similarity(EmoBuff.reshape(-1,1).T,EmoVec[i].reshape(-1,1).T)) for i in range(EmoVec.shape[0])])]"
   ]
  },
  {
   "cell_type": "code",
   "execution_count": 22,
   "id": "developed-mediterranean",
   "metadata": {},
   "outputs": [],
   "source": [
    "def Report(df,EmoVec,vectorizer,report=True,trans=False, ret=True):\n",
    "    y_pred=[]\n",
    "    for i in range(len(df)):\n",
    "        y_pred.append(EmowavE(df[1][i],vectorizer,EmoVec,trans))\n",
    "    \n",
    "    if report:\n",
    "        print(classification_report(df.index,y_pred))\n",
    "    if ret:\n",
    "        return y_pred"
   ]
  },
  {
   "cell_type": "markdown",
   "id": "e6d69af1-caba-4ef0-8ba6-aa464f8334cb",
   "metadata": {},
   "source": [
    "- This accuracy on the trained data so you may ignore this accuracy, just for our reference"
   ]
  },
  {
   "cell_type": "code",
   "execution_count": 23,
   "id": "greek-paraguay",
   "metadata": {
    "scrolled": true
   },
   "outputs": [
    {
     "name": "stdout",
     "output_type": "stream",
     "text": [
      "              precision    recall  f1-score   support\n",
      "\n",
      "       anger       0.54      0.65      0.59      2326\n",
      "     disgust       0.55      0.72      0.62      2124\n",
      "        fear       0.69      0.56      0.62      2552\n",
      "         joy       0.75      0.82      0.79      1781\n",
      "     sadness       0.73      0.46      0.56      2273\n",
      "\n",
      "    accuracy                           0.63     11056\n",
      "   macro avg       0.65      0.64      0.64     11056\n",
      "weighted avg       0.65      0.63      0.63     11056\n",
      "\n"
     ]
    }
   ],
   "source": [
    "Report(df,EmoVec,vectorizer,ret=False)"
   ]
  },
  {
   "cell_type": "code",
   "execution_count": 24,
   "id": "sound-shift",
   "metadata": {},
   "outputs": [
    {
     "data": {
      "text/plain": [
       "(array(['anger', 'disgust', 'fear', 'joy', 'sadness'], dtype=object),\n",
       " array([2326, 2124, 2552, 1781, 2273]))"
      ]
     },
     "execution_count": 24,
     "metadata": {},
     "output_type": "execute_result"
    }
   ],
   "source": [
    "np.unique(df.index,return_counts=True)"
   ]
  },
  {
   "cell_type": "markdown",
   "id": "1808814e-ef33-4830-be64-3fbcbb480838",
   "metadata": {},
   "source": [
    "- We did fivefold crossvalidation. but didn,t mention in report as it was not necessary"
   ]
  },
  {
   "cell_type": "code",
   "execution_count": 25,
   "id": "loving-opening",
   "metadata": {},
   "outputs": [],
   "source": [
    "def fiveFold(df):\n",
    "    accList=[]\n",
    "    \n",
    "    df = shuffle(df)\n",
    "    \n",
    "    interval=int(len(df)/5)\n",
    "    starter=0\n",
    "    ender=interval\n",
    "    \n",
    "    for i in range(5):\n",
    "        print(f\"~~~~~~~~~~~~~ Fold-{i+1} starting ~~~~~~~~~~~~~\")\n",
    "        traindf=df.iloc[:starter]\n",
    "        testdf=df.iloc[starter:ender]\n",
    "        traindf=traindf.append(df.iloc[ender:])\n",
    "        traindf=traindf.sort_index()\n",
    "        testdf=testdf.sort_index()\n",
    "\n",
    "        #Creating corpus\n",
    "        Corpus=[]\n",
    "        for i in traindf[1]:\n",
    "            Corpus.append(CorFilt(i))\n",
    "        \n",
    "        #Creating TF-IDF\n",
    "        vectorizer = TfidfVectorizer()\n",
    "        vectorizer.fit(Corpus)\n",
    "        X=vectorizer.transform(Corpus).toarray()\n",
    "        \n",
    "        #Creating EmotionVectors\n",
    "        counterS=0\n",
    "        counterE=0\n",
    "        emocount=0\n",
    "        EmoVec=np.zeros((5,X.shape[-1]))\n",
    "        for i in np.unique(traindf.index):\n",
    "            counterE+=traindf.loc[i].shape[0]\n",
    "            EmoVec[emocount]=np.mean(X[counterS:counterE,:], axis=0)\n",
    "#             print(i,X[counterS:counterE,:].shape)\n",
    "            emocount+=1\n",
    "            counterS=counterE\n",
    "        \n",
    "        y_pred=[]\n",
    "        for i in range(len(testdf)):\n",
    "            y_pred.append(EmowavE(testdf[1][i],vectorizer,EmoVec))\n",
    "        \n",
    "        print(classification_report(y_pred,testdf.index))\n",
    "        accList.append(accuracy_score(y_pred,testdf.index))\n",
    "        \n",
    "        starter+=interval\n",
    "        ender+=interval\n",
    "        \n",
    "    print(f\"Five Fold Accuracy is {np.mean(accList)}\")"
   ]
  },
  {
   "cell_type": "code",
   "execution_count": 21,
   "id": "final-diving",
   "metadata": {},
   "outputs": [
    {
     "name": "stdout",
     "output_type": "stream",
     "text": [
      "~~~~~~~~~~~~~ Fold-1 starting ~~~~~~~~~~~~~\n",
      "              precision    recall  f1-score   support\n",
      "\n",
      "       anger       0.44      0.28      0.34       756\n",
      "     disgust       0.39      0.34      0.36       452\n",
      "        fear       0.33      0.41      0.37       407\n",
      "         joy       0.60      0.67      0.63       325\n",
      "     sadness       0.29      0.49      0.36       271\n",
      "\n",
      "    accuracy                           0.40      2211\n",
      "   macro avg       0.41      0.44      0.41      2211\n",
      "weighted avg       0.41      0.40      0.40      2211\n",
      "\n",
      "~~~~~~~~~~~~~ Fold-2 starting ~~~~~~~~~~~~~\n",
      "              precision    recall  f1-score   support\n",
      "\n",
      "       anger       0.47      0.28      0.35       790\n",
      "     disgust       0.35      0.34      0.34       446\n",
      "        fear       0.32      0.43      0.36       390\n",
      "         joy       0.57      0.65      0.61       313\n",
      "     sadness       0.30      0.47      0.36       272\n",
      "\n",
      "    accuracy                           0.39      2211\n",
      "   macro avg       0.40      0.43      0.41      2211\n",
      "weighted avg       0.41      0.39      0.39      2211\n",
      "\n",
      "~~~~~~~~~~~~~ Fold-3 starting ~~~~~~~~~~~~~\n",
      "              precision    recall  f1-score   support\n",
      "\n",
      "       anger       0.46      0.27      0.34       781\n",
      "     disgust       0.35      0.40      0.37       414\n",
      "        fear       0.35      0.42      0.38       410\n",
      "         joy       0.55      0.60      0.57       321\n",
      "     sadness       0.30      0.49      0.37       285\n",
      "\n",
      "    accuracy                           0.40      2211\n",
      "   macro avg       0.40      0.43      0.41      2211\n",
      "weighted avg       0.41      0.40      0.39      2211\n",
      "\n",
      "~~~~~~~~~~~~~ Fold-4 starting ~~~~~~~~~~~~~\n",
      "              precision    recall  f1-score   support\n",
      "\n",
      "       anger       0.46      0.27      0.34       752\n",
      "     disgust       0.38      0.37      0.37       438\n",
      "        fear       0.34      0.49      0.40       373\n",
      "         joy       0.57      0.60      0.59       324\n",
      "     sadness       0.34      0.49      0.40       324\n",
      "\n",
      "    accuracy                           0.41      2211\n",
      "   macro avg       0.42      0.44      0.42      2211\n",
      "weighted avg       0.42      0.41      0.40      2211\n",
      "\n",
      "~~~~~~~~~~~~~ Fold-5 starting ~~~~~~~~~~~~~\n",
      "              precision    recall  f1-score   support\n",
      "\n",
      "       anger       0.44      0.28      0.34       733\n",
      "     disgust       0.39      0.36      0.37       465\n",
      "        fear       0.34      0.43      0.38       401\n",
      "         joy       0.61      0.65      0.63       353\n",
      "     sadness       0.30      0.53      0.38       259\n",
      "\n",
      "    accuracy                           0.41      2211\n",
      "   macro avg       0.42      0.45      0.42      2211\n",
      "weighted avg       0.42      0.41      0.41      2211\n",
      "\n",
      "Five Fold Accuracy is 0.4013568521031208\n"
     ]
    }
   ],
   "source": [
    "fiveFold(df)"
   ]
  },
  {
   "cell_type": "markdown",
   "id": "983a6e23-84d9-4975-a912-70f7d2fa5bb2",
   "metadata": {},
   "source": [
    "# Reading SemEval Dataset for testing"
   ]
  },
  {
   "cell_type": "code",
   "execution_count": 26,
   "id": "decreased-curtis",
   "metadata": {
    "tags": []
   },
   "outputs": [],
   "source": [
    "import xml.etree.ElementTree as ET\n",
    "tree=ET.parse(\"semeval/semeval.trial/affectivetext_trial.xml\")\n",
    "root = tree.getroot()"
   ]
  },
  {
   "cell_type": "code",
   "execution_count": 27,
   "id": "administrative-stake",
   "metadata": {},
   "outputs": [
    {
     "name": "stdout",
     "output_type": "stream",
     "text": [
      "1 Mortar assault leaves at least 18 dead\n",
      "2 Goal delight for Sheva\n",
      "3 Nigeria hostage feared dead is freed\n",
      "4 Bombers kill shoppers\n",
      "5 Vegetables, not fruit, slow brain decline\n",
      "6 PM: Havana deal a good experiment\n",
      "7 Kate is marrying Doherty\n",
      "8 NASA revisiting life on Mars question\n",
      "9 Happy birthday, iPod\n",
      "10 Alonso would be happy to retire with three titles\n",
      "11 Madonna's New Tot 'Happy at Home' in London\n",
      "12 Nicole Kidman asks dad to help stop husband's drinking\n",
      "13 United Finds Good Connection in Win\n",
      "14 'Runway': Making Good Without Making Nice\n",
      "15 We were 'arrogant and stupid' over Iraq, says US diplomat\n",
      "16 Bad reasons to be good\n",
      "17 Madonna's new baby's daddy didn't realize adoption was `for good'\n",
      "18 Women in their 60s 'are perfectly good mothers'\n",
      "19 We're a pretty kind 'bully'\n",
      "20 Moderate drinking reduces men's heart attack risk\n",
      "21 Tom Cruise and Katie Holmes set wedding date\n",
      "22 Kidnapped AP photographer freed in Gaza\n",
      "23 Bush Insists Troops Stay in Iraq, Predicts Midterm Victory\n",
      "24 Hurricane Paul Weakens To Tropical Storm\n",
      "25 UK announces immigration restrictions\n",
      "26 Three found alive from missing Russian ship -report\n",
      "27 Poison Pill to Swallow: Hawks Hurting After Loss to Vikes\n",
      "28 Injured Marathon Winner Leaves Hospital\n",
      "29 Hacker unlocks Apple music download protection\n",
      "30 Spanish journalist seized in Gaza\n",
      "31 Sudan urges UN to replace its special envoy\n",
      "32 Resolution approved for international games\n",
      "33 Pair of Satellites Will Document Sun in 3-D\n",
      "34 Martian Life Could Have Evaded Detection by Viking Landers\n",
      "35 The sweet tune of an anniversary\n",
      "36 Did Viking Probes Miss Life on Mars?\n",
      "37 Diplomat acknowledges US arrogance in Iraq\n",
      "38 More Human Remains Found at Ground Zero\n",
      "39 How to Prevent Iraq From Getting Even Worse\n",
      "40 Tensions as Hungary marks uprising\n",
      "41 Stanford study warns of Internet addiction\n",
      "42 No evidence of ice reserves on the moon\n",
      "43 A Picture and A Thousand Words\n",
      "44 Parachutist dies at bridge-jump festival\n",
      "45 US Troops Killed In October In Iraq\n",
      "46 Chefs not counting calories, study finds\n",
      "47 Deaths linked to flu vaccine\n",
      "48 Perfect lives lose their focus\n",
      "49 Bread-Heavy Diet Linked to Kidney Cancer\n",
      "50 Beating poverty in a small way\n",
      "51 Israel insists on Lebanon overflights\n",
      "52 Britain to restrict immigrants from new EU members\n",
      "53 Confusion Reigns In the Expanding Digital World\n",
      "54 Game on! London exhibition celebrates the history of video games\n",
      "55 Making peace from victory over poverty\n",
      "56 Marine killed in fighting west of Baghdad\n",
      "57 Scientists create first cloaking device\n",
      "58 Amateur rocket scientists reach for space\n",
      "59 Confusion Reigns In the Expanding Digital World\n",
      "60 Deaths linked to flu vaccine\n",
      "61 Israel admits using phosphorous shells in Lebanon\n",
      "62 4th person dies after receiving flu shot\n",
      "63 Police and shoppers targeted in growing Iraq violence\n",
      "64 Scientists discover miracle in the depths\n",
      "65 Doctors Seeing Patients Who Think They're Internet Addicted\n",
      "66 China launches two satellites into orbit\n",
      "67 Vegetables May Boost Brain Power in Older Adults\n",
      "68 Hurricane Paul nears Category 3 status\n",
      "69 Russian ship sinks, 18-member crew missing\n",
      "70 Iran's president urges higher birth rate\n",
      "71 Apple set for massive market gains\n",
      "72 Tumor Types May Explain Survival Rates for Cancer\n",
      "73 Routine mission turns into hunt for missing comrade\n",
      "74 Bad weather slows S.Korean search for Russian ship\n",
      "75 Tailors and housewives busy as Muslims celebrate Eid\n",
      "76 Active peace brings the promise of development\n",
      "77 Abbas condemns Israeli massacre in northern Gaza Strip\n",
      "78 Bangladesh ferry sinks, 15 dead\n",
      "79 Bucs find a new kick in life\n",
      "80 Google to unveil election mashup\n",
      "81 Police warn of child exploitation online\n",
      "82 Breast Cancer Awareness is Important\n",
      "83 Hungary police tackle violent protestors\n",
      "84 Three drivers had reason to be proud in Brazil\n",
      "85 Celebrities Protest Malibu Gas Facility\n",
      "86 Lebo: A life lived on the edge\n",
      "87 Presto! He's Batman, then magic man\n",
      "88 Heavy use of mobile phones can make men infertile, scientists say\n",
      "89 Russian ship sinks in Pacific\n",
      "90 China Successfully Launches Two Satellites\n",
      "91 Prestige has magic touch\n",
      "92 Lies, damned lies, and divorce\n",
      "93 Manning inspires Giants to victory in Dallas\n",
      "94 Riot warning for France suburbs\n",
      "95 Full recovery expected for marathon winner\n",
      "96 Sony apologises for global battery recall\n",
      "97 Questions on credit card safety\n",
      "98 Budapest calm after night of violent protests\n",
      "99 Vegetables May Boost Brain Power in Older Adults\n",
      "100 Report criticises US press freedoms\n",
      "101 French suburb riots could resume\n",
      "102 Photographer kidnapping condemned\n",
      "103 Photographer kidnapped in Gaza\n",
      "104 Baseball: Rogers enjoys his muddied streak\n",
      "105 Cultural revolutionary, the iPod is five\n",
      "106 Life on Mars? Maybe We Missed It\n",
      "107 Three found alive from missing Russian ship -report\n",
      "108 Moderate drinking reduces men's heart attack risk\n",
      "109 The sweet tune of an anniversary\n",
      "110 Inconvenient truths\n",
      "111 Dating difficult for Harry Potter\n",
      "112 Students lose their rite of passage\n",
      "113 Putin vows to tackle illegal immigration\n",
      "114 Ottawa must redefine 'terror'\n",
      "115 Britain to Limit Workers from Romania, Bulgaria\n",
      "116 Top General Optimistic on Iraq\n",
      "117 Kim Osorio Wins Sexual Harrassment Suit Against The Source\n",
      "118 Silly and substantial\n",
      "119 Official laughs for Borat\n",
      "120 Speaker Hastert testifies before panel probing sex scandal\n",
      "121 On Educating Sexes Separately\n",
      "122 Tom Cruise and Katie Holmes set wedding date\n",
      "123 Martian Life Could Have Evaded Detection by Viking Landers\n",
      "124 Ukraine gas deal marred by fears\n",
      "125 Marathon victory comes at heavy cost\n",
      "126 College tuition continues climbing\n",
      "127 German paper shows soldiers desecrating skull\n",
      "128 War is close, Ethiopia tells Somali rebels\n",
      "129 Advantage Cardinals with Suppan in Game 4\n",
      "130 NASA spacecraft to measure Sun\n",
      "131 Sony Hates Europeans, Will Prevent The Importing of PS3\n",
      "132 Flu Vaccine Appears Safe for Young Children\n",
      "133 Google To Launch Yet Another Search Tool\n",
      "134 Tropical Storm Paul's Outer Bands Hit Mexico's Baja California\n",
      "135 Israeli Bomblets Plague Lebanon\n",
      "136 New Indonesia Calamity, a Mud Bath, Is Man-Made\n",
      "137 U.S. Weighs Sanctions Against North Korea\n",
      "138 Rice, in Baghdad, Insists That Iraqis Are \n",
      "139 Senator Says U.S. Should Rethink Iraq Strategy\n",
      "140 German Chief Forges Accord on Financing Health Care\n",
      "141 Turkish Writers Say Efforts to Stifle Speech May Backfire\n",
      "142 Kurdish Lawmaker Killed in an Attack in Baghdad\n",
      "143 Anti-U.S. Attack Videos Spread on the Internet\n",
      "144 Women Face Greatest Threat of Violence at Home, Study Finds\n",
      "145 Appeal by Chinese Researcher for Times May Soon Be Heard\n",
      "146 Brazil Air Force Cites Faults and Confusion in Fatal Crash\n",
      "147 A Mix of Oil and Environmentalism\n",
      "148 Immigrants and French Reach Deal in Standoff\n",
      "149 Genghis Khan Beer? Mongolia Grimaces\n",
      "150 Dead Bachelors in Remote China Still Find Wives\n",
      "151 Managua Journal: Hold the Mojito and Margarita, Nicaragua Has el Macu\n",
      "153 Paris Journal: Smoking No Longer Tres Chic in France\n",
      "154 An Old Letter Casts Doubts on Iran's Goal for Uranium\n",
      "155 U.S. Warns North Koreans About Nuclear Test\n",
      "156 Global Sludge Ends in Tragedy for Ivory Coast\n",
      "158 Equipment on Plane in Brazil Collision May Have Been Faulty\n",
      "159 New Indonesia Calamity, a Mud Bath, Is Man-Made\n",
      "160 Iraqi Journalists Add Laws to List of Dangers\n",
      "161 U.N. Force Is Treading Lightly on Lebanese Soil\n",
      "162 Cleric Said to Lose Reins Over Part of Iraqi Militia\n",
      "163 Citing Spy Agencies' Study, Democrats Seek Iraq Changes\n",
      "164 Opera Canceled Over a Depiction of Muhammad\n",
      "165 Military Officials Add to U.S. Criticism of Iraq's Government\n",
      "166 Teacher in Hiding After Attack on Islam Stirs Threats\n",
      "167 Combative Bush Releases Parts of Terror Study\n",
      "168 Growing Unarmed Battalion in Qaeda Army Is Using Internet to Get the Message Out\n",
      "169 Iraqi Linked to Sunni Bloc Is Held in Plot, Military Says\n",
      "170 Seduced by Snacks? No, Not You\n",
      "171 Friends for Life: An Emerging Biology of Emotional Healing\n",
      "172 Alzheimer's Drugs Offer No Help, Study Finds\n",
      "173 Across Europe, Worries on Islam Spread to Center\n",
      "174 Cooking Defines Sephardic Jews at Sukkot\n",
      "175 Fitness: Bodies in Motion, Clean and Sober\n",
      "176 In God's Name: Religion-Based Tax Breaks: Housing to Paychecks to Books\n",
      "177 Yankee Dies in Plane Crash, Official Says\n",
      "178 An Elephant Crackup?\n",
      "179 With YouTube, Grad Student Hits Jackpot Again\n",
      "180 Dow flirts with record highs again\n",
      "181 Tropical Storm Isaac forms in Atlantic\n",
      "182 New Iraq terror tape calls for abducting foreigners\n",
      "183 'Deep regret' for ex-HP exec\n",
      "184 'Opportunity' knocks on geologist's dream crater\n",
      "185 Squirrel jumps boy in park; rabies suspected\n",
      "186 Girl left comatose after dental visit dies\n",
      "187 Porn star candidate campaigns on campus\n",
      "188 School ends football season after 0-4 start\n",
      "189 Charlie Sheen to become highest-paid sitcom star\n",
      "190 Jon Stewart mocks benefits of CNN's I\n",
      "191 Ashton Kutcher tells secret to Ryan Seacrest\n",
      "192 Nails-on-chalkboard study earns Ig\n",
      "193 Gunman 'fine' before shooting\n",
      "194 Marijuana may stave off Alzheimer's\n",
      "195 Kentucky seeks alcohol huffing ban\n",
      "196 Toddler died from tainted spinach\n",
      "197 Judge dismisses Karr's porn case\n",
      "198 10 die in 22-hour Kashmir standoff\n",
      "199 Slain Amish girls laid to rest\n",
      "200 5,000 flee plant fire\n",
      "201 Cher auction fetches double pre-sale estimates\n",
      "202 Stars scuffle on 'Grey's Anatomy'\n",
      "203 Probe under way in Yankee crash\n",
      "204 Amish schoolhouse torn down\n",
      "205 Warner will not run in '08\n",
      "206 Reid land deal under scrutiny\n",
      "207 Flooding washes out road to Valdez, Alaska\n",
      "208 Briton admits U.S. bomb plot role\n",
      "209 Commentary: Minutemen have a right to be idiotic\n",
      "210 Madonna files adoption papers\n",
      "211 Gunmen kill 9 at Iraqi TV station\n",
      "212 Hastert sorry for scandal but not quitting\n",
      "213 Ex-JonBenet suspect: Child porn case dropped \n",
      "214 Waste plant fire forces 5,000 to evacuate \n",
      "215 Toddler died from E. coli tainted spinach \n",
      "216 Disturbing finds in child sex raids \n",
      "217 Magazine lists women who had abortions \n",
      "218 Pot smokers may avoid Alzheimer's, study says \n",
      "219 Student starts white men's club on campus \n",
      "220 Kentucky wants to ban alcohol inhalers \n",
      "221 Peter Pan flies into chapter two \n",
      "222 Teen repellent inventor wins infamous prize \n",
      "223 Cher's dress, car, bed have new owners\n",
      "224 Dow hits new record, eyes 12,000 \n",
      "225 Ex-Virginia gov not running for president \n",
      "226 Yankee pitcher's pilot log found \n",
      "228 Dem leader's $1 million land deal under scrutiny \n",
      "229 Dad locked up son, watched on TV, police say \n",
      "230 Navarrette: Minutemen have a right to be idiotic \n",
      "231 Pit bulls jump miniature pony, leave her bloody \n",
      "232 Alaska town cut off from rest of state by flood \n",
      "233 Trailblazing trio protects City by the Bay \n",
      "234 Madonna files adoption papers in Malawi\n",
      "235 'Dr. McDreamy' choked in 'Grey's' scuffle \n",
      "236 $10,000 poetry prize awarded \n",
      "237 Las Vegas honour for tiger pair \n",
      "238 UK characters boosting box office \n",
      "239 Cher items snapped up at auction \n",
      "240 Griffiths scorns Withnail 'play' \n",
      "241 Lily Allen wins web music award \n",
      "242 Costner appeals in casino wrangle\n",
      "243 Beyonce copyright claim rejected \n",
      "244 Cohn gunman jailed for 36 years \n",
      "245 Melua's deep sea gig sets record \n",
      "246 Sri Lanka clashes kill 129 troops \n",
      "247 Gunmen kill 11 in Iraq TV raid \n",
      "248 Italy drops Sicily bridge plans \n",
      "249 Amish killings school demolished \n",
      "250 Pamuk wins Nobel Literature prize\n",
      "251 Madonna adoption bid approved \n",
      "252 Man admits UK-US terror bomb plot\n",
      "253 Who are you calling fat?\n"
     ]
    }
   ],
   "source": [
    "for child in root:\n",
    "    print(child.attrib['id'],child.text)"
   ]
  },
  {
   "cell_type": "code",
   "execution_count": 28,
   "id": "spoken-energy",
   "metadata": {
    "scrolled": true
   },
   "outputs": [
    {
     "data": {
      "text/plain": [
       "'253'"
      ]
     },
     "execution_count": 28,
     "metadata": {},
     "output_type": "execute_result"
    }
   ],
   "source": [
    "child.attrib['id']"
   ]
  },
  {
   "cell_type": "code",
   "execution_count": 29,
   "id": "controversial-thailand",
   "metadata": {},
   "outputs": [
    {
     "data": {
      "text/html": [
       "<div>\n",
       "<style scoped>\n",
       "    .dataframe tbody tr th:only-of-type {\n",
       "        vertical-align: middle;\n",
       "    }\n",
       "\n",
       "    .dataframe tbody tr th {\n",
       "        vertical-align: top;\n",
       "    }\n",
       "\n",
       "    .dataframe thead th {\n",
       "        text-align: right;\n",
       "    }\n",
       "</style>\n",
       "<table border=\"1\" class=\"dataframe\">\n",
       "  <thead>\n",
       "    <tr style=\"text-align: right;\">\n",
       "      <th></th>\n",
       "      <th>1</th>\n",
       "      <th>2</th>\n",
       "      <th>3</th>\n",
       "      <th>4</th>\n",
       "      <th>5</th>\n",
       "    </tr>\n",
       "    <tr>\n",
       "      <th>0</th>\n",
       "      <th></th>\n",
       "      <th></th>\n",
       "      <th></th>\n",
       "      <th></th>\n",
       "      <th></th>\n",
       "    </tr>\n",
       "  </thead>\n",
       "  <tbody>\n",
       "    <tr>\n",
       "      <th>1</th>\n",
       "      <td>22</td>\n",
       "      <td>2</td>\n",
       "      <td>60</td>\n",
       "      <td>0</td>\n",
       "      <td>64</td>\n",
       "    </tr>\n",
       "    <tr>\n",
       "      <th>2</th>\n",
       "      <td>0</td>\n",
       "      <td>0</td>\n",
       "      <td>0</td>\n",
       "      <td>93</td>\n",
       "      <td>0</td>\n",
       "    </tr>\n",
       "    <tr>\n",
       "      <th>3</th>\n",
       "      <td>18</td>\n",
       "      <td>0</td>\n",
       "      <td>52</td>\n",
       "      <td>66</td>\n",
       "      <td>20</td>\n",
       "    </tr>\n",
       "    <tr>\n",
       "      <th>4</th>\n",
       "      <td>66</td>\n",
       "      <td>39</td>\n",
       "      <td>94</td>\n",
       "      <td>0</td>\n",
       "      <td>86</td>\n",
       "    </tr>\n",
       "    <tr>\n",
       "      <th>5</th>\n",
       "      <td>0</td>\n",
       "      <td>0</td>\n",
       "      <td>25</td>\n",
       "      <td>26</td>\n",
       "      <td>2</td>\n",
       "    </tr>\n",
       "    <tr>\n",
       "      <th>...</th>\n",
       "      <td>...</td>\n",
       "      <td>...</td>\n",
       "      <td>...</td>\n",
       "      <td>...</td>\n",
       "      <td>...</td>\n",
       "    </tr>\n",
       "    <tr>\n",
       "      <th>249</th>\n",
       "      <td>33</td>\n",
       "      <td>33</td>\n",
       "      <td>42</td>\n",
       "      <td>0</td>\n",
       "      <td>44</td>\n",
       "    </tr>\n",
       "    <tr>\n",
       "      <th>250</th>\n",
       "      <td>0</td>\n",
       "      <td>0</td>\n",
       "      <td>0</td>\n",
       "      <td>89</td>\n",
       "      <td>0</td>\n",
       "    </tr>\n",
       "    <tr>\n",
       "      <th>251</th>\n",
       "      <td>0</td>\n",
       "      <td>0</td>\n",
       "      <td>0</td>\n",
       "      <td>48</td>\n",
       "      <td>0</td>\n",
       "    </tr>\n",
       "    <tr>\n",
       "      <th>252</th>\n",
       "      <td>33</td>\n",
       "      <td>43</td>\n",
       "      <td>61</td>\n",
       "      <td>0</td>\n",
       "      <td>33</td>\n",
       "    </tr>\n",
       "    <tr>\n",
       "      <th>253</th>\n",
       "      <td>0</td>\n",
       "      <td>16</td>\n",
       "      <td>0</td>\n",
       "      <td>0</td>\n",
       "      <td>12</td>\n",
       "    </tr>\n",
       "  </tbody>\n",
       "</table>\n",
       "<p>250 rows × 5 columns</p>\n",
       "</div>"
      ],
      "text/plain": [
       "      1   2   3   4   5\n",
       "0                      \n",
       "1    22   2  60   0  64\n",
       "2     0   0   0  93   0\n",
       "3    18   0  52  66  20\n",
       "4    66  39  94   0  86\n",
       "5     0   0  25  26   2\n",
       "..   ..  ..  ..  ..  ..\n",
       "249  33  33  42   0  44\n",
       "250   0   0   0  89   0\n",
       "251   0   0   0  48   0\n",
       "252  33  43  61   0  33\n",
       "253   0  16   0   0  12\n",
       "\n",
       "[250 rows x 5 columns]"
      ]
     },
     "execution_count": 29,
     "metadata": {},
     "output_type": "execute_result"
    }
   ],
   "source": [
    "semeval=pd.read_csv(\"semeval/semeval.trial/affectivetext_trial.emotions.gold\",delimiter=\" \",header=None)\n",
    "semeval=semeval.set_index(0)\n",
    "semeval=semeval.drop(labels=6,axis=1)\n",
    "semeval"
   ]
  },
  {
   "cell_type": "code",
   "execution_count": 30,
   "id": "stopped-georgia",
   "metadata": {},
   "outputs": [],
   "source": [
    "EmoDict={0:'anger',\n",
    "         1:'disgust',\n",
    "         2:'fear',\n",
    "         3:'joy',\n",
    "         4:'sadness'}\n",
    "semList=[]\n",
    "for i in semeval.to_numpy():\n",
    "    semList.append(EmoDict[np.argmax(i)])"
   ]
  },
  {
   "cell_type": "code",
   "execution_count": 31,
   "id": "catholic-nomination",
   "metadata": {},
   "outputs": [],
   "source": [
    "semData=[]\n",
    "for child in root:\n",
    "    semData.append(child.text)"
   ]
  },
  {
   "cell_type": "code",
   "execution_count": 32,
   "id": "brave-chest",
   "metadata": {},
   "outputs": [],
   "source": [
    "semdf=pd.DataFrame(semList)\n",
    "semdf[1]=semData\n",
    "\n",
    "#Including valence\n",
    "semval=pd.read_csv(\"semeval/semeval.trial/affectivetext_trial.valence.gold\",delimiter=\" \",header=None)\n",
    "semdf[2]=semval[1]\n",
    "semdf=semdf.set_index(0)\n",
    "semdf=semdf.sort_index()"
   ]
  },
  {
   "cell_type": "code",
   "execution_count": 26,
   "id": "european-scene",
   "metadata": {},
   "outputs": [],
   "source": [
    "EmoVec,vectorizer=EmoVekt(df)"
   ]
  },
  {
   "cell_type": "code",
   "execution_count": 33,
   "id": "outside-projection",
   "metadata": {},
   "outputs": [
    {
     "data": {
      "text/plain": [
       "array([[0.00050286, 0.        , 0.00088351, ..., 0.        , 0.        ,\n",
       "        0.        ],\n",
       "       [0.00014297, 0.        , 0.0005022 , ..., 0.        , 0.        ,\n",
       "        0.00012585],\n",
       "       [0.00065714, 0.00013103, 0.00135175, ..., 0.00032773, 0.00016977,\n",
       "        0.        ],\n",
       "       [0.        , 0.00016959, 0.0015124 , ..., 0.        , 0.        ,\n",
       "        0.        ],\n",
       "       [0.        , 0.        , 0.00052642, ..., 0.        , 0.        ,\n",
       "        0.        ]])"
      ]
     },
     "execution_count": 33,
     "metadata": {},
     "output_type": "execute_result"
    }
   ],
   "source": [
    "EmoVec"
   ]
  },
  {
   "cell_type": "markdown",
   "id": "d634acb6-7729-40e5-a754-b859aca7fe74",
   "metadata": {},
   "source": [
    "- In our testing we found the accuracy to be 36% which is same as found in reference literature"
   ]
  },
  {
   "cell_type": "code",
   "execution_count": 34,
   "id": "imported-percentage",
   "metadata": {},
   "outputs": [
    {
     "name": "stdout",
     "output_type": "stream",
     "text": [
      "              precision    recall  f1-score   support\n",
      "\n",
      "       anger       0.22      0.32      0.26        37\n",
      "     disgust       0.07      0.25      0.11        16\n",
      "        fear       0.30      0.45      0.36        38\n",
      "         joy       0.74      0.47      0.58        95\n",
      "     sadness       0.54      0.20      0.30        64\n",
      "\n",
      "    accuracy                           0.36       250\n",
      "   macro avg       0.37      0.34      0.32       250\n",
      "weighted avg       0.50      0.36      0.40       250\n",
      "\n"
     ]
    }
   ],
   "source": [
    "semeval_pred=Report(semdf,EmoVec,vectorizer)"
   ]
  },
  {
   "cell_type": "code",
   "execution_count": 35,
   "id": "preceding-distributor",
   "metadata": {},
   "outputs": [
    {
     "data": {
      "text/plain": [
       "(array(['anger', 'disgust', 'fear', 'joy', 'sadness'], dtype=object),\n",
       " array([37, 16, 38, 95, 64]))"
      ]
     },
     "execution_count": 35,
     "metadata": {},
     "output_type": "execute_result"
    }
   ],
   "source": [
    "np.unique(semdf.index,return_counts=True)"
   ]
  },
  {
   "cell_type": "markdown",
   "id": "934950fa-a93a-4205-be40-d85bba2804a5",
   "metadata": {},
   "source": [
    "- Experiment 2 as mentioned in report"
   ]
  },
  {
   "cell_type": "code",
   "execution_count": 37,
   "id": "adjusted-soundtrack",
   "metadata": {},
   "outputs": [],
   "source": [
    "def valFilt(df,thresh=0):\n",
    "    ansDf=df.iloc[:0]\n",
    "    for i in range(len(df)):\n",
    "        if abs(df.iloc[i][2])>=thresh:\n",
    "            ansDf=ansDf.append(df.iloc[i])\n",
    "    return ansDf"
   ]
  },
  {
   "cell_type": "code",
   "execution_count": 36,
   "id": "initial-hospital",
   "metadata": {},
   "outputs": [
    {
     "data": {
      "text/plain": [
       "array([0.26373626, 0.11428571, 0.35789474, 0.57692308, 0.29545455])"
      ]
     },
     "execution_count": 36,
     "metadata": {},
     "output_type": "execute_result"
    }
   ],
   "source": [
    "f1_score(semdf.index,semeval_pred,average=None)"
   ]
  },
  {
   "cell_type": "code",
   "execution_count": 38,
   "id": "involved-structure",
   "metadata": {},
   "outputs": [],
   "source": [
    "f1List=[]\n",
    "pdLen=[]\n",
    "for i in range(100):\n",
    "    buffDf=valFilt(semdf,i)\n",
    "    semeval_pred=Report(buffDf,EmoVec,vectorizer,report=False)\n",
    "    f1List.append(np.mean(f1_score(buffDf.index,semeval_pred,average=None)))\n",
    "    pdLen.append(len(buffDf))"
   ]
  },
  {
   "cell_type": "code",
   "execution_count": 39,
   "id": "apart-baseline",
   "metadata": {},
   "outputs": [
    {
     "data": {
      "image/png": "[encoded data removed]",
      "text/plain": [
       "<Figure size 432x288 with 1 Axes>"
      ]
     },
     "metadata": {
      "needs_background": "light"
     },
     "output_type": "display_data"
    }
   ],
   "source": [
    "plt.plot(f1List[:85])\n",
    "plt.xlabel(\"Valence Threshold\")\n",
    "plt.ylabel(\"F1-Score\")\n",
    "plt.show()"
   ]
  },
  {
   "cell_type": "code",
   "execution_count": 41,
   "id": "endangered-beaver",
   "metadata": {},
   "outputs": [
    {
     "data": {
      "image/png": "[encoded data removed]",
      "text/plain": [
       "<Figure size 432x288 with 1 Axes>"
      ]
     },
     "metadata": {
      "needs_background": "light"
     },
     "output_type": "display_data"
    }
   ],
   "source": [
    "plt.plot(pdLen,\"g\")\n",
    "plt.xlabel(\"Valence Threshold\")\n",
    "plt.ylabel(\"No. of Samples\")\n",
    "plt.show()"
   ]
  },
  {
   "cell_type": "code",
   "execution_count": 33,
   "id": "promotional-theorem",
   "metadata": {},
   "outputs": [
    {
     "data": {
      "text/plain": [
       "0.41622559865051534"
      ]
     },
     "execution_count": 33,
     "metadata": {},
     "output_type": "execute_result"
    }
   ],
   "source": [
    "buffDf=valFilt(semdf,61)\n",
    "semeval_pred=Report(buffDf,EmoVec,vectorizer,report=False)\n",
    "np.mean(f1_score(buffDf.index,semeval_pred,average=None))"
   ]
  },
  {
   "cell_type": "code",
   "execution_count": 34,
   "id": "polished-baseball",
   "metadata": {},
   "outputs": [
    {
     "data": {
      "text/plain": [
       "0.5283018867924528"
      ]
     },
     "execution_count": 34,
     "metadata": {},
     "output_type": "execute_result"
    }
   ],
   "source": [
    "accuracy_score(buffDf.index,semeval_pred)"
   ]
  },
  {
   "cell_type": "markdown",
   "id": "aeb18f58-2752-4d42-9daa-7bb1a8165e04",
   "metadata": {},
   "source": [
    "- Testing the VSM model with a complex statement! yet it classified it correctly!"
   ]
  },
  {
   "cell_type": "code",
   "execution_count": 46,
   "id": "angry-danish",
   "metadata": {
    "scrolled": true
   },
   "outputs": [
    {
     "name": "stdout",
     "output_type": "stream",
     "text": [
      "\n",
      "\t>>> Emotion: fear\n"
     ]
    }
   ],
   "source": [
    "print(f\"\\n\\t>>> Emotion: {EmowavE('a perfectly parceled dead body')}\")"
   ]
  }
 ],
 "metadata": {
  "kernelspec": {
   "display_name": "Python 3",
   "language": "python",
   "name": "python3"
  },
  "language_info": {
   "codemirror_mode": {
    "name": "ipython",
    "version": 3
   },
   "file_extension": ".py",
   "mimetype": "text/x-python",
   "name": "python",
   "nbconvert_exporter": "python",
   "pygments_lexer": "ipython3",
   "version": "3.8.9"
  }
 },
 "nbformat": 4,
 "nbformat_minor": 5
}
