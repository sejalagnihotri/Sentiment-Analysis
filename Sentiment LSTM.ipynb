{
 "cells": [
  {
   "cell_type": "code",
   "execution_count": 1,
   "metadata": {
    "colab": {
     "base_uri": "https://localhost:8080/"
    },
    "executionInfo": {
     "elapsed": 1554,
     "status": "ok",
     "timestamp": 1619188192891,
     "user": {
      "displayName": "2020 18010",
      "photoUrl": "",
      "userId": "14677844295391768051"
     },
     "user_tz": -330
    },
    "id": "RtEp0wZeGgp_",
    "outputId": "af5f1966-a645-4e4b-8ed1-b08d1fea32c8"
   },
   "outputs": [
    {
     "name": "stdout",
     "output_type": "stream",
     "text": [
      "[nltk_data] Downloading package punkt to /root/nltk_data...\n",
      "[nltk_data]   Package punkt is already up-to-date!\n",
      "[nltk_data] Downloading package averaged_perceptron_tagger to\n",
      "[nltk_data]     /root/nltk_data...\n",
      "[nltk_data]   Package averaged_perceptron_tagger is already up-to-\n",
      "[nltk_data]       date!\n"
     ]
    }
   ],
   "source": [
    "import pandas as pd\n",
    "import numpy as np\n",
    "import matplotlib.pyplot as plt\n",
    "from sklearn.metrics.pairwise import cosine_similarity\n",
    "import nltk\n",
    "nltk.download('punkt')\n",
    "nltk.download('averaged_perceptron_tagger')\n",
    "from nltk import tokenize\n",
    "from nltk.tokenize import word_tokenize\n",
    "from nltk import pos_tag\n",
    "from sklearn.feature_extraction.text import TfidfVectorizer\n",
    "from nltk.stem import PorterStemmer\n",
    "from sklearn.metrics import classification_report, accuracy_score, f1_score\n",
    "from sklearn.utils import shuffle\n",
    "from textblob import TextBlob\n",
    "import subprocess"
   ]
  },
  {
   "cell_type": "code",
   "execution_count": 2,
   "metadata": {
    "colab": {
     "base_uri": "https://localhost:8080/"
    },
    "executionInfo": {
     "elapsed": 3426,
     "status": "ok",
     "timestamp": 1619188205186,
     "user": {
      "displayName": "2020 18010",
      "photoUrl": "",
      "userId": "14677844295391768051"
     },
     "user_tz": -330
    },
    "id": "5ePJlvK4JDaK",
    "outputId": "40b18d72-9c4c-49b0-8a42-de194bbe7fc1"
   },
   "outputs": [
    {
     "name": "stdout",
     "output_type": "stream",
     "text": [
      "Reading package lists... Done\n",
      "Building dependency tree       \n",
      "Reading state information... Done\n",
      "translate-shell is already the newest version (0.9.6.6-1).\n",
      "The following package was automatically installed and is no longer required:\n",
      "  libnvidia-common-460\n",
      "Use 'apt autoremove' to remove it.\n",
      "0 upgraded, 0 newly installed, 0 to remove and 34 not upgraded.\n"
     ]
    }
   ],
   "source": [
    "!apt install translate-shell"
   ]
  },
  {
   "cell_type": "code",
   "execution_count": 3,
   "metadata": {
    "executionInfo": {
     "elapsed": 2206,
     "status": "ok",
     "timestamp": 1619188205187,
     "user": {
      "displayName": "2020 18010",
      "photoUrl": "",
      "userId": "14677844295391768051"
     },
     "user_tz": -330
    },
    "id": "60NM7MQFH747"
   },
   "outputs": [],
   "source": [
    "PATH=\"/content/drive/MyDrive/SEM2/IR/Sentiment_Analysis\""
   ]
  },
  {
   "cell_type": "markdown",
   "metadata": {},
   "source": [
    "# Reading Dataset"
   ]
  },
  {
   "cell_type": "code",
   "execution_count": 4,
   "metadata": {
    "colab": {
     "base_uri": "https://localhost:8080/",
     "height": 449
    },
    "executionInfo": {
     "elapsed": 1444,
     "status": "ok",
     "timestamp": 1619188205189,
     "user": {
      "displayName": "2020 18010",
      "photoUrl": "",
      "userId": "14677844295391768051"
     },
     "user_tz": -330
    },
    "id": "orange-thanksgiving",
    "outputId": "6e55041a-60e1-48d1-d6d5-0b6a2e0d6d5a"
   },
   "outputs": [
    {
     "data": {
      "text/html": [
       "<div>\n",
       "<style scoped>\n",
       "    .dataframe tbody tr th:only-of-type {\n",
       "        vertical-align: middle;\n",
       "    }\n",
       "\n",
       "    .dataframe tbody tr th {\n",
       "        vertical-align: top;\n",
       "    }\n",
       "\n",
       "    .dataframe thead th {\n",
       "        text-align: right;\n",
       "    }\n",
       "</style>\n",
       "<table border=\"1\" class=\"dataframe\">\n",
       "  <thead>\n",
       "    <tr style=\"text-align: right;\">\n",
       "      <th></th>\n",
       "      <th>1</th>\n",
       "    </tr>\n",
       "    <tr>\n",
       "      <th>0</th>\n",
       "      <th></th>\n",
       "    </tr>\n",
       "  </thead>\n",
       "  <tbody>\n",
       "    <tr>\n",
       "      <th>joy</th>\n",
       "      <td>On days when I feel close to my partner and ot...</td>\n",
       "    </tr>\n",
       "    <tr>\n",
       "      <th>fear</th>\n",
       "      <td>Every time I imagine that someone I love or I ...</td>\n",
       "    </tr>\n",
       "    <tr>\n",
       "      <th>anger</th>\n",
       "      <td>When I had been obviously unjustly treated and...</td>\n",
       "    </tr>\n",
       "    <tr>\n",
       "      <th>sadness</th>\n",
       "      <td>When I think about the short time that we live...</td>\n",
       "    </tr>\n",
       "    <tr>\n",
       "      <th>disgust</th>\n",
       "      <td>At a gathering I found myself involuntarily si...</td>\n",
       "    </tr>\n",
       "    <tr>\n",
       "      <th>...</th>\n",
       "      <td>...</td>\n",
       "    </tr>\n",
       "    <tr>\n",
       "      <th>shame</th>\n",
       "      <td>Two years back someone invited me to be the tu...</td>\n",
       "    </tr>\n",
       "    <tr>\n",
       "      <th>shame</th>\n",
       "      <td>I had taken the responsibility to do something...</td>\n",
       "    </tr>\n",
       "    <tr>\n",
       "      <th>fear</th>\n",
       "      <td>I was at home and I heard a loud sound of spit...</td>\n",
       "    </tr>\n",
       "    <tr>\n",
       "      <th>guilt</th>\n",
       "      <td>I did not do the homework that the teacher had...</td>\n",
       "    </tr>\n",
       "    <tr>\n",
       "      <th>fear</th>\n",
       "      <td>I had shouted at my younger brother and he was...</td>\n",
       "    </tr>\n",
       "  </tbody>\n",
       "</table>\n",
       "<p>7516 rows × 1 columns</p>\n",
       "</div>"
      ],
      "text/plain": [
       "                                                         1\n",
       "0                                                         \n",
       "joy      On days when I feel close to my partner and ot...\n",
       "fear     Every time I imagine that someone I love or I ...\n",
       "anger    When I had been obviously unjustly treated and...\n",
       "sadness  When I think about the short time that we live...\n",
       "disgust  At a gathering I found myself involuntarily si...\n",
       "...                                                    ...\n",
       "shame    Two years back someone invited me to be the tu...\n",
       "shame    I had taken the responsibility to do something...\n",
       "fear     I was at home and I heard a loud sound of spit...\n",
       "guilt    I did not do the homework that the teacher had...\n",
       "fear     I had shouted at my younger brother and he was...\n",
       "\n",
       "[7516 rows x 1 columns]"
      ]
     },
     "execution_count": 4,
     "metadata": {
      "tags": []
     },
     "output_type": "execute_result"
    }
   ],
   "source": [
    "isear=pd.read_csv(f\"{PATH}/ISEAR.csv\",header=None)\n",
    "isear=isear.drop(labels=[2],axis=1).set_index(0)\n",
    "isear"
   ]
  },
  {
   "cell_type": "code",
   "execution_count": 5,
   "metadata": {
    "colab": {
     "base_uri": "https://localhost:8080/"
    },
    "executionInfo": {
     "elapsed": 1407,
     "status": "ok",
     "timestamp": 1619188205845,
     "user": {
      "displayName": "2020 18010",
      "photoUrl": "",
      "userId": "14677844295391768051"
     },
     "user_tz": -330
    },
    "id": "finished-macintosh",
    "outputId": "8223a540-190f-41de-a830-ac021cab2e61"
   },
   "outputs": [
    {
     "data": {
      "text/plain": [
       "(array(['anger', 'disgust', 'fear', 'guilt', 'guit', 'joy', 'sadness',\n",
       "        'shame'], dtype=object),\n",
       " array([1079, 1066, 1076, 1049,    1, 1092, 1082, 1071]))"
      ]
     },
     "execution_count": 5,
     "metadata": {
      "tags": []
     },
     "output_type": "execute_result"
    }
   ],
   "source": [
    "np.unique(isear.index,return_counts=True)"
   ]
  },
  {
   "cell_type": "code",
   "execution_count": 6,
   "metadata": {
    "colab": {
     "base_uri": "https://localhost:8080/",
     "height": 449
    },
    "executionInfo": {
     "elapsed": 1279,
     "status": "ok",
     "timestamp": 1619188208117,
     "user": {
      "displayName": "2020 18010",
      "photoUrl": "",
      "userId": "14677844295391768051"
     },
     "user_tz": -330
    },
    "id": "negative-fiber",
    "outputId": "838bcbe0-3c1a-41a4-9792-7ec05788066c"
   },
   "outputs": [
    {
     "data": {
      "text/html": [
       "<div>\n",
       "<style scoped>\n",
       "    .dataframe tbody tr th:only-of-type {\n",
       "        vertical-align: middle;\n",
       "    }\n",
       "\n",
       "    .dataframe tbody tr th {\n",
       "        vertical-align: top;\n",
       "    }\n",
       "\n",
       "    .dataframe thead th {\n",
       "        text-align: right;\n",
       "    }\n",
       "</style>\n",
       "<table border=\"1\" class=\"dataframe\">\n",
       "  <thead>\n",
       "    <tr style=\"text-align: right;\">\n",
       "      <th></th>\n",
       "      <th>1</th>\n",
       "    </tr>\n",
       "    <tr>\n",
       "      <th>0</th>\n",
       "      <th></th>\n",
       "    </tr>\n",
       "  </thead>\n",
       "  <tbody>\n",
       "    <tr>\n",
       "      <th>anger</th>\n",
       "      <td>When I had been obviously unjustly treated and...</td>\n",
       "    </tr>\n",
       "    <tr>\n",
       "      <th>anger</th>\n",
       "      <td>When a car is overtaking another and I am forc...</td>\n",
       "    </tr>\n",
       "    <tr>\n",
       "      <th>anger</th>\n",
       "      <td>When one is unjustly accused of something one ...</td>\n",
       "    </tr>\n",
       "    <tr>\n",
       "      <th>anger</th>\n",
       "      <td>When my partner was attacked and lost three te...</td>\n",
       "    </tr>\n",
       "    <tr>\n",
       "      <th>anger</th>\n",
       "      <td>Unjust accusations directed at me and my way o...</td>\n",
       "    </tr>\n",
       "    <tr>\n",
       "      <th>...</th>\n",
       "      <td>...</td>\n",
       "    </tr>\n",
       "    <tr>\n",
       "      <th>joy</th>\n",
       "      <td>When I received a letter from the university t...</td>\n",
       "    </tr>\n",
       "    <tr>\n",
       "      <th>joy</th>\n",
       "      <td>I had a picnic with old classmates, we chatted...</td>\n",
       "    </tr>\n",
       "    <tr>\n",
       "      <th>joy</th>\n",
       "      <td>It was the first time that I gave a birthday p...</td>\n",
       "    </tr>\n",
       "    <tr>\n",
       "      <th>joy</th>\n",
       "      <td>In August,1983, the long awaited \"big envelope...</td>\n",
       "    </tr>\n",
       "    <tr>\n",
       "      <th>joy</th>\n",
       "      <td>I received a letter from a distant friend.</td>\n",
       "    </tr>\n",
       "  </tbody>\n",
       "</table>\n",
       "<p>5395 rows × 1 columns</p>\n",
       "</div>"
      ],
      "text/plain": [
       "                                                       1\n",
       "0                                                       \n",
       "anger  When I had been obviously unjustly treated and...\n",
       "anger  When a car is overtaking another and I am forc...\n",
       "anger  When one is unjustly accused of something one ...\n",
       "anger  When my partner was attacked and lost three te...\n",
       "anger  Unjust accusations directed at me and my way o...\n",
       "...                                                  ...\n",
       "joy    When I received a letter from the university t...\n",
       "joy    I had a picnic with old classmates, we chatted...\n",
       "joy    It was the first time that I gave a birthday p...\n",
       "joy    In August,1983, the long awaited \"big envelope...\n",
       "joy           I received a letter from a distant friend.\n",
       "\n",
       "[5395 rows x 1 columns]"
      ]
     },
     "execution_count": 6,
     "metadata": {
      "tags": []
     },
     "output_type": "execute_result"
    }
   ],
   "source": [
    "df=isear.loc[['anger','disgust','fear','sadness','joy']]\n",
    "df"
   ]
  },
  {
   "cell_type": "code",
   "execution_count": 7,
   "metadata": {
    "executionInfo": {
     "elapsed": 826,
     "status": "ok",
     "timestamp": 1619188208796,
     "user": {
      "displayName": "2020 18010",
      "photoUrl": "",
      "userId": "14677844295391768051"
     },
     "user_tz": -330
    },
    "id": "composite-middle"
   },
   "outputs": [],
   "source": [
    "lexi=pd.read_csv(f\"{PATH}/NRC_emotion_lexicon_list.txt\",delimiter=\"\\t\",header=None)\n",
    "lexi=lexi.dropna()"
   ]
  },
  {
   "cell_type": "code",
   "execution_count": 9,
   "metadata": {
    "executionInfo": {
     "elapsed": 943,
     "status": "ok",
     "timestamp": 1619188210231,
     "user": {
      "displayName": "2020 18010",
      "photoUrl": "",
      "userId": "14677844295391768051"
     },
     "user_tz": -330
    },
    "id": "increased-tenant"
   },
   "outputs": [],
   "source": [
    "lexiFilt=lexi\n",
    "lexiFilt=lexiFilt.set_index(2)\n",
    "lexiFilt=lexiFilt.loc[1]\n",
    "lexiFilt=lexiFilt.set_index(1)\n",
    "lexiFilt[1]=lexiFilt[0]\n",
    "lexiFilt=lexiFilt.drop(0,axis=1)"
   ]
  },
  {
   "cell_type": "code",
   "execution_count": 10,
   "metadata": {
    "executionInfo": {
     "elapsed": 1381,
     "status": "ok",
     "timestamp": 1619188211552,
     "user": {
      "displayName": "2020 18010",
      "photoUrl": "",
      "userId": "14677844295391768051"
     },
     "user_tz": -330
    },
    "id": "cooperative-albany"
   },
   "outputs": [],
   "source": [
    "Emotions=['anger', 'disgust', 'fear', 'joy', 'sadness']\n",
    "for i in Emotions:\n",
    "    df=df.append(lexiFilt.loc[i])"
   ]
  },
  {
   "cell_type": "code",
   "execution_count": 11,
   "metadata": {
    "colab": {
     "base_uri": "https://localhost:8080/",
     "height": 418
    },
    "executionInfo": {
     "elapsed": 1587,
     "status": "ok",
     "timestamp": 1619188212459,
     "user": {
      "displayName": "2020 18010",
      "photoUrl": "",
      "userId": "14677844295391768051"
     },
     "user_tz": -330
    },
    "id": "allied-canyon",
    "outputId": "47b9d81a-0500-4662-b77c-d65f08d62444"
   },
   "outputs": [
    {
     "data": {
      "text/html": [
       "<div>\n",
       "<style scoped>\n",
       "    .dataframe tbody tr th:only-of-type {\n",
       "        vertical-align: middle;\n",
       "    }\n",
       "\n",
       "    .dataframe tbody tr th {\n",
       "        vertical-align: top;\n",
       "    }\n",
       "\n",
       "    .dataframe thead th {\n",
       "        text-align: right;\n",
       "    }\n",
       "</style>\n",
       "<table border=\"1\" class=\"dataframe\">\n",
       "  <thead>\n",
       "    <tr style=\"text-align: right;\">\n",
       "      <th></th>\n",
       "      <th>1</th>\n",
       "    </tr>\n",
       "  </thead>\n",
       "  <tbody>\n",
       "    <tr>\n",
       "      <th>anger</th>\n",
       "      <td>When I had been obviously unjustly treated and...</td>\n",
       "    </tr>\n",
       "    <tr>\n",
       "      <th>anger</th>\n",
       "      <td>dupe</td>\n",
       "    </tr>\n",
       "    <tr>\n",
       "      <th>anger</th>\n",
       "      <td>duplicity</td>\n",
       "    </tr>\n",
       "    <tr>\n",
       "      <th>anger</th>\n",
       "      <td>duress</td>\n",
       "    </tr>\n",
       "    <tr>\n",
       "      <th>anger</th>\n",
       "      <td>dying</td>\n",
       "    </tr>\n",
       "    <tr>\n",
       "      <th>...</th>\n",
       "      <td>...</td>\n",
       "    </tr>\n",
       "    <tr>\n",
       "      <th>sadness</th>\n",
       "      <td>I couldn't sleep, and began to remind of my ch...</td>\n",
       "    </tr>\n",
       "    <tr>\n",
       "      <th>sadness</th>\n",
       "      <td>I felt sad when I was despised by another person.</td>\n",
       "    </tr>\n",
       "    <tr>\n",
       "      <th>sadness</th>\n",
       "      <td>Some colleagues decided to go out on a Saturda...</td>\n",
       "    </tr>\n",
       "    <tr>\n",
       "      <th>sadness</th>\n",
       "      <td>During an informal talk with a friend when we ...</td>\n",
       "    </tr>\n",
       "    <tr>\n",
       "      <th>sadness</th>\n",
       "      <td>wrongly</td>\n",
       "    </tr>\n",
       "  </tbody>\n",
       "</table>\n",
       "<p>11056 rows × 1 columns</p>\n",
       "</div>"
      ],
      "text/plain": [
       "                                                         1\n",
       "anger    When I had been obviously unjustly treated and...\n",
       "anger                                                 dupe\n",
       "anger                                            duplicity\n",
       "anger                                               duress\n",
       "anger                                                dying\n",
       "...                                                    ...\n",
       "sadness  I couldn't sleep, and began to remind of my ch...\n",
       "sadness  I felt sad when I was despised by another person.\n",
       "sadness  Some colleagues decided to go out on a Saturda...\n",
       "sadness  During an informal talk with a friend when we ...\n",
       "sadness                                            wrongly\n",
       "\n",
       "[11056 rows x 1 columns]"
      ]
     },
     "execution_count": 11,
     "metadata": {
      "tags": []
     },
     "output_type": "execute_result"
    }
   ],
   "source": [
    "df=df.sort_index()\n",
    "df"
   ]
  },
  {
   "cell_type": "markdown",
   "metadata": {},
   "source": [
    "# Preprocessing"
   ]
  },
  {
   "cell_type": "code",
   "execution_count": 12,
   "metadata": {
    "executionInfo": {
     "elapsed": 918,
     "status": "ok",
     "timestamp": 1619188212460,
     "user": {
      "displayName": "2020 18010",
      "photoUrl": "",
      "userId": "14677844295391768051"
     },
     "user_tz": -330
    },
    "id": "hidden-hawaiian"
   },
   "outputs": [],
   "source": [
    "stopwords=['i', 'me', 'my', 'myself', 'we', 'our', 'ours', 'ourselves', 'you', \"you're\", \"you've\", \"you'll\", \"you'd\", 'your', 'yours', 'yourself', 'yourselves', 'he', 'him', 'his', 'himself', 'she', \"she's\", 'her', 'hers', 'herself', 'it', \"it's\", 'its', 'itself', 'they', 'them', 'their', 'theirs', 'themselves', 'what', 'which', 'who', 'whom', 'this', 'that', \"that'll\", 'these', 'those', 'am', 'is', 'are', 'was', 'were', 'be', 'been', 'being', 'have', 'has', 'had', 'having', 'do', 'does', 'did', 'doing', 'a', 'an', 'the', 'and', 'but', 'if', 'or', 'because', 'as', 'until', 'while', 'of', 'at', 'by', 'for', 'with', 'about', 'against', 'between', 'into', 'through', 'during', 'before', 'after', 'above', 'below', 'to', 'from', 'up', 'down', 'in', 'out', 'on', 'off', 'over', 'under', 'again', 'further', 'then', 'once', 'here', 'there', 'when', 'where', 'why', 'how', 'all', 'any', 'both', 'each', 'few', 'more', 'most', 'other', 'some', 'such', 'no', 'nor', 'only', 'own', 'same', 'so', 'than', 'too', 'very', 's', 't', 'can', 'will', 'just', 'don', \"don't\", 'should', \"should've\", 'now', 'd', 'll', 'm', 'o', 're', 've', 'y', 'ain', 'aren', \"aren't\", 'couldn', \"couldn't\", 'didn', \"didn't\", 'doesn', \"doesn't\", 'hadn', \"hadn't\", 'hasn', \"hasn't\", 'haven', \"haven't\", 'isn', \"isn't\", 'ma', 'mightn', \"mightn't\", 'mustn', \"mustn't\", 'needn', \"needn't\", 'shan', \"shan't\", 'shouldn', \"shouldn't\", 'wasn', \"wasn't\", 'weren', \"weren't\", 'won', \"won't\", 'wouldn', \"wouldn't\"]\n",
    "punkts='''\"#$%&\\'()*+,-./:;<=>@[\\\\]^_`{|}~'''"
   ]
  },
  {
   "cell_type": "code",
   "execution_count": 13,
   "metadata": {
    "executionInfo": {
     "elapsed": 807,
     "status": "ok",
     "timestamp": 1619188212885,
     "user": {
      "displayName": "2020 18010",
      "photoUrl": "",
      "userId": "14677844295391768051"
     },
     "user_tz": -330
    },
    "id": "attended-saudi"
   },
   "outputs": [],
   "source": [
    "def CorFilt(i):\n",
    "    ps = PorterStemmer()\n",
    "    \n",
    "    buff=word_tokenize(i.lower().replace(\"\\n\",\"\").replace(\"  \",\" \").replace(\"n't\",\" not\"))\n",
    "    buff2=\"\"\n",
    "    for j in pos_tag(buff):\n",
    "        if j[-1]=='RB' and j[0]!=\"not\":\n",
    "            pass\n",
    "        else:\n",
    "            buff2+=j[0]+\" \"\n",
    "    buff2=buff2.replace(\"not \",\"NOT\")\n",
    "    buff=word_tokenize(buff2.strip())\n",
    "    ans=\"\"\n",
    "    for j in buff:\n",
    "        if (j not in punkts) and (j not in stopwords):\n",
    "            if j==\"!\":\n",
    "                ans+=\" XXEXCLMARK\"\n",
    "            elif j==\"?\":\n",
    "                ans+=\" XXQUESMARK\"\n",
    "            else:\n",
    "                if j!=\"'s\" and j!=\"``\":\n",
    "                    ans+=\" \"+ps.stem(j)\n",
    "    return ans.strip()"
   ]
  },
  {
   "cell_type": "code",
   "execution_count": 14,
   "metadata": {
    "executionInfo": {
     "elapsed": 880,
     "status": "ok",
     "timestamp": 1619188213483,
     "user": {
      "displayName": "2020 18010",
      "photoUrl": "",
      "userId": "14677844295391768051"
     },
     "user_tz": -330
    },
    "id": "excessive-baking"
   },
   "outputs": [],
   "source": [
    "def TFIDF(df):\n",
    "    Corpus=[]\n",
    "    for i in df[1]:\n",
    "        Corpus.append(CorFilt(i))\n",
    "\n",
    "    vectorizer = TfidfVectorizer()\n",
    "    vectorizer.fit(Corpus)\n",
    "    X=vectorizer.transform(Corpus).toarray()\n",
    "    \n",
    "    return X,vectorizer"
   ]
  },
  {
   "cell_type": "code",
   "execution_count": 15,
   "metadata": {
    "executionInfo": {
     "elapsed": 1116,
     "status": "ok",
     "timestamp": 1619188214266,
     "user": {
      "displayName": "2020 18010",
      "photoUrl": "",
      "userId": "14677844295391768051"
     },
     "user_tz": -330
    },
    "id": "selective-identification"
   },
   "outputs": [],
   "source": [
    "def EmoVekt(df):\n",
    "    X,vectorizer=TFIDF(df)\n",
    "    counterS=0\n",
    "    counterE=0\n",
    "    emocount=0\n",
    "    EmoVec=np.zeros((5,X.shape[-1]))\n",
    "    for i in np.unique(df.index):\n",
    "        counterE+=df.loc[i].shape[0]\n",
    "        EmoVec[emocount]=np.mean(X[counterS:counterE,:], axis=0)\n",
    "#         print(i,X[counterS:counterE,:].shape)\n",
    "        emocount+=1\n",
    "        counterS=counterE\n",
    "    return EmoVec,vectorizer"
   ]
  },
  {
   "cell_type": "code",
   "execution_count": 16,
   "metadata": {
    "executionInfo": {
     "elapsed": 15894,
     "status": "ok",
     "timestamp": 1619188230806,
     "user": {
      "displayName": "2020 18010",
      "photoUrl": "",
      "userId": "14677844295391768051"
     },
     "user_tz": -330
    },
    "id": "structured-recovery"
   },
   "outputs": [],
   "source": [
    "EmoVec,vectorizer=EmoVekt(df)"
   ]
  },
  {
   "cell_type": "code",
   "execution_count": 17,
   "metadata": {
    "executionInfo": {
     "elapsed": 14716,
     "status": "ok",
     "timestamp": 1619188230807,
     "user": {
      "displayName": "2020 18010",
      "photoUrl": "",
      "userId": "14677844295391768051"
     },
     "user_tz": -330
    },
    "id": "operating-sperm"
   },
   "outputs": [],
   "source": [
    "def EmowavE(sent,vectorizer=vectorizer,EmoVec=EmoVec,trans=True):\n",
    "    \n",
    "    transDict={'gu':'Gujarati',\n",
    "               'hi':'Hindi'}\n",
    "    # Translate from any language to english\n",
    "    if trans:\n",
    "        analysis = TextBlob(sent)\n",
    "        if analysis.detect_language()!='en':\n",
    "            try:\n",
    "                print(f\"\\nInput text was in {transDict[analysis.detect_language()]}\")\n",
    "            except:\n",
    "                print(f\"\\nInput text was not in English\")\n",
    "            print(\"\\nTranslating...\")\n",
    "            output=subprocess.check_output(['trans','-b',sent])\n",
    "            sent=output.decode('utf-8').strip()\n",
    "            print(f\"\\nTranslation in English: {sent}\")\n",
    "        \n",
    "    EmoBuff=vectorizer.transform([CorFilt(sent)])\n",
    "    EmoDict={0:'anger',\n",
    "             1:'disgust',\n",
    "             2:'fear',\n",
    "             3:'joy',\n",
    "             4:'sadness'}\n",
    "    return EmoDict[np.argmax([float(cosine_similarity(EmoBuff.reshape(-1,1).T,EmoVec[i].reshape(-1,1).T)) for i in range(EmoVec.shape[0])])]"
   ]
  },
  {
   "cell_type": "markdown",
   "metadata": {},
   "source": [
    "# Reading Test Data"
   ]
  },
  {
   "cell_type": "code",
   "execution_count": 19,
   "metadata": {
    "executionInfo": {
     "elapsed": 11961,
     "status": "ok",
     "timestamp": 1619188230809,
     "user": {
      "displayName": "2020 18010",
      "photoUrl": "",
      "userId": "14677844295391768051"
     },
     "user_tz": -330
    },
    "id": "decreased-curtis"
   },
   "outputs": [],
   "source": [
    "import xml.etree.ElementTree as ET\n",
    "tree=ET.parse(f\"{PATH}/semeval/semeval.trial/affectivetext_trial.xml\")\n",
    "root = tree.getroot()"
   ]
  },
  {
   "cell_type": "code",
   "execution_count": 20,
   "metadata": {
    "colab": {
     "base_uri": "https://localhost:8080/"
    },
    "executionInfo": {
     "elapsed": 11436,
     "status": "ok",
     "timestamp": 1619188230810,
     "user": {
      "displayName": "2020 18010",
      "photoUrl": "",
      "userId": "14677844295391768051"
     },
     "user_tz": -330
    },
    "id": "administrative-stake",
    "outputId": "7529964f-d590-409a-afc4-36e4109952eb"
   },
   "outputs": [
    {
     "name": "stdout",
     "output_type": "stream",
     "text": [
      "1 Mortar assault leaves at least 18 dead\n",
      "2 Goal delight for Sheva\n",
      "3 Nigeria hostage feared dead is freed\n",
      "4 Bombers kill shoppers\n",
      "5 Vegetables, not fruit, slow brain decline\n",
      "6 PM: Havana deal a good experiment\n",
      "7 Kate is marrying Doherty\n",
      "8 NASA revisiting life on Mars question\n",
      "9 Happy birthday, iPod\n",
      "10 Alonso would be happy to retire with three titles\n",
      "11 Madonna's New Tot 'Happy at Home' in London\n",
      "12 Nicole Kidman asks dad to help stop husband's drinking\n",
      "13 United Finds Good Connection in Win\n",
      "14 'Runway': Making Good Without Making Nice\n",
      "15 We were 'arrogant and stupid' over Iraq, says US diplomat\n",
      "16 Bad reasons to be good\n",
      "17 Madonna's new baby's daddy didn't realize adoption was `for good'\n",
      "18 Women in their 60s 'are perfectly good mothers'\n",
      "19 We're a pretty kind 'bully'\n",
      "20 Moderate drinking reduces men's heart attack risk\n",
      "21 Tom Cruise and Katie Holmes set wedding date\n",
      "22 Kidnapped AP photographer freed in Gaza\n",
      "23 Bush Insists Troops Stay in Iraq, Predicts Midterm Victory\n",
      "24 Hurricane Paul Weakens To Tropical Storm\n",
      "25 UK announces immigration restrictions\n",
      "26 Three found alive from missing Russian ship -report\n",
      "27 Poison Pill to Swallow: Hawks Hurting After Loss to Vikes\n",
      "28 Injured Marathon Winner Leaves Hospital\n",
      "29 Hacker unlocks Apple music download protection\n",
      "30 Spanish journalist seized in Gaza\n",
      "31 Sudan urges UN to replace its special envoy\n",
      "32 Resolution approved for international games\n",
      "33 Pair of Satellites Will Document Sun in 3-D\n",
      "34 Martian Life Could Have Evaded Detection by Viking Landers\n",
      "35 The sweet tune of an anniversary\n",
      "36 Did Viking Probes Miss Life on Mars?\n",
      "37 Diplomat acknowledges US arrogance in Iraq\n",
      "38 More Human Remains Found at Ground Zero\n",
      "39 How to Prevent Iraq From Getting Even Worse\n",
      "40 Tensions as Hungary marks uprising\n",
      "41 Stanford study warns of Internet addiction\n",
      "42 No evidence of ice reserves on the moon\n",
      "43 A Picture and A Thousand Words\n",
      "44 Parachutist dies at bridge-jump festival\n",
      "45 US Troops Killed In October In Iraq\n",
      "46 Chefs not counting calories, study finds\n",
      "47 Deaths linked to flu vaccine\n",
      "48 Perfect lives lose their focus\n",
      "49 Bread-Heavy Diet Linked to Kidney Cancer\n",
      "50 Beating poverty in a small way\n",
      "51 Israel insists on Lebanon overflights\n",
      "52 Britain to restrict immigrants from new EU members\n",
      "53 Confusion Reigns In the Expanding Digital World\n",
      "54 Game on! London exhibition celebrates the history of video games\n",
      "55 Making peace from victory over poverty\n",
      "56 Marine killed in fighting west of Baghdad\n",
      "57 Scientists create first cloaking device\n",
      "58 Amateur rocket scientists reach for space\n",
      "59 Confusion Reigns In the Expanding Digital World\n",
      "60 Deaths linked to flu vaccine\n",
      "61 Israel admits using phosphorous shells in Lebanon\n",
      "62 4th person dies after receiving flu shot\n",
      "63 Police and shoppers targeted in growing Iraq violence\n",
      "64 Scientists discover miracle in the depths\n",
      "65 Doctors Seeing Patients Who Think They're Internet Addicted\n",
      "66 China launches two satellites into orbit\n",
      "67 Vegetables May Boost Brain Power in Older Adults\n",
      "68 Hurricane Paul nears Category 3 status\n",
      "69 Russian ship sinks, 18-member crew missing\n",
      "70 Iran's president urges higher birth rate\n",
      "71 Apple set for massive market gains\n",
      "72 Tumor Types May Explain Survival Rates for Cancer\n",
      "73 Routine mission turns into hunt for missing comrade\n",
      "74 Bad weather slows S.Korean search for Russian ship\n",
      "75 Tailors and housewives busy as Muslims celebrate Eid\n",
      "76 Active peace brings the promise of development\n",
      "77 Abbas condemns Israeli massacre in northern Gaza Strip\n",
      "78 Bangladesh ferry sinks, 15 dead\n",
      "79 Bucs find a new kick in life\n",
      "80 Google to unveil election mashup\n",
      "81 Police warn of child exploitation online\n",
      "82 Breast Cancer Awareness is Important\n",
      "83 Hungary police tackle violent protestors\n",
      "84 Three drivers had reason to be proud in Brazil\n",
      "85 Celebrities Protest Malibu Gas Facility\n",
      "86 Lebo: A life lived on the edge\n",
      "87 Presto! He's Batman, then magic man\n",
      "88 Heavy use of mobile phones can make men infertile, scientists say\n",
      "89 Russian ship sinks in Pacific\n",
      "90 China Successfully Launches Two Satellites\n",
      "91 Prestige has magic touch\n",
      "92 Lies, damned lies, and divorce\n",
      "93 Manning inspires Giants to victory in Dallas\n",
      "94 Riot warning for France suburbs\n",
      "95 Full recovery expected for marathon winner\n",
      "96 Sony apologises for global battery recall\n",
      "97 Questions on credit card safety\n",
      "98 Budapest calm after night of violent protests\n",
      "99 Vegetables May Boost Brain Power in Older Adults\n",
      "100 Report criticises US press freedoms\n",
      "101 French suburb riots could resume\n",
      "102 Photographer kidnapping condemned\n",
      "103 Photographer kidnapped in Gaza\n",
      "104 Baseball: Rogers enjoys his muddied streak\n",
      "105 Cultural revolutionary, the iPod is five\n",
      "106 Life on Mars? Maybe We Missed It\n",
      "107 Three found alive from missing Russian ship -report\n",
      "108 Moderate drinking reduces men's heart attack risk\n",
      "109 The sweet tune of an anniversary\n",
      "110 Inconvenient truths\n",
      "111 Dating difficult for Harry Potter\n",
      "112 Students lose their rite of passage\n",
      "113 Putin vows to tackle illegal immigration\n",
      "114 Ottawa must redefine 'terror'\n",
      "115 Britain to Limit Workers from Romania, Bulgaria\n",
      "116 Top General Optimistic on Iraq\n",
      "117 Kim Osorio Wins Sexual Harrassment Suit Against The Source\n",
      "118 Silly and substantial\n",
      "119 Official laughs for Borat\n",
      "120 Speaker Hastert testifies before panel probing sex scandal\n",
      "121 On Educating Sexes Separately\n",
      "122 Tom Cruise and Katie Holmes set wedding date\n",
      "123 Martian Life Could Have Evaded Detection by Viking Landers\n",
      "124 Ukraine gas deal marred by fears\n",
      "125 Marathon victory comes at heavy cost\n",
      "126 College tuition continues climbing\n",
      "127 German paper shows soldiers desecrating skull\n",
      "128 War is close, Ethiopia tells Somali rebels\n",
      "129 Advantage Cardinals with Suppan in Game 4\n",
      "130 NASA spacecraft to measure Sun\n",
      "131 Sony Hates Europeans, Will Prevent The Importing of PS3\n",
      "132 Flu Vaccine Appears Safe for Young Children\n",
      "133 Google To Launch Yet Another Search Tool\n",
      "134 Tropical Storm Paul's Outer Bands Hit Mexico's Baja California\n",
      "135 Israeli Bomblets Plague Lebanon\n",
      "136 New Indonesia Calamity, a Mud Bath, Is Man-Made\n",
      "137 U.S. Weighs Sanctions Against North Korea\n",
      "138 Rice, in Baghdad, Insists That Iraqis Are \n",
      "139 Senator Says U.S. Should Rethink Iraq Strategy\n",
      "140 German Chief Forges Accord on Financing Health Care\n",
      "141 Turkish Writers Say Efforts to Stifle Speech May Backfire\n",
      "142 Kurdish Lawmaker Killed in an Attack in Baghdad\n",
      "143 Anti-U.S. Attack Videos Spread on the Internet\n",
      "144 Women Face Greatest Threat of Violence at Home, Study Finds\n",
      "145 Appeal by Chinese Researcher for Times May Soon Be Heard\n",
      "146 Brazil Air Force Cites Faults and Confusion in Fatal Crash\n",
      "147 A Mix of Oil and Environmentalism\n",
      "148 Immigrants and French Reach Deal in Standoff\n",
      "149 Genghis Khan Beer? Mongolia Grimaces\n",
      "150 Dead Bachelors in Remote China Still Find Wives\n",
      "151 Managua Journal: Hold the Mojito and Margarita, Nicaragua Has el Macu\n",
      "153 Paris Journal: Smoking No Longer Tres Chic in France\n",
      "154 An Old Letter Casts Doubts on Iran's Goal for Uranium\n",
      "155 U.S. Warns North Koreans About Nuclear Test\n",
      "156 Global Sludge Ends in Tragedy for Ivory Coast\n",
      "158 Equipment on Plane in Brazil Collision May Have Been Faulty\n",
      "159 New Indonesia Calamity, a Mud Bath, Is Man-Made\n",
      "160 Iraqi Journalists Add Laws to List of Dangers\n",
      "161 U.N. Force Is Treading Lightly on Lebanese Soil\n",
      "162 Cleric Said to Lose Reins Over Part of Iraqi Militia\n",
      "163 Citing Spy Agencies' Study, Democrats Seek Iraq Changes\n",
      "164 Opera Canceled Over a Depiction of Muhammad\n",
      "165 Military Officials Add to U.S. Criticism of Iraq's Government\n",
      "166 Teacher in Hiding After Attack on Islam Stirs Threats\n",
      "167 Combative Bush Releases Parts of Terror Study\n",
      "168 Growing Unarmed Battalion in Qaeda Army Is Using Internet to Get the Message Out\n",
      "169 Iraqi Linked to Sunni Bloc Is Held in Plot, Military Says\n",
      "170 Seduced by Snacks? No, Not You\n",
      "171 Friends for Life: An Emerging Biology of Emotional Healing\n",
      "172 Alzheimer's Drugs Offer No Help, Study Finds\n",
      "173 Across Europe, Worries on Islam Spread to Center\n",
      "174 Cooking Defines Sephardic Jews at Sukkot\n",
      "175 Fitness: Bodies in Motion, Clean and Sober\n",
      "176 In God's Name: Religion-Based Tax Breaks: Housing to Paychecks to Books\n",
      "177 Yankee Dies in Plane Crash, Official Says\n",
      "178 An Elephant Crackup?\n",
      "179 With YouTube, Grad Student Hits Jackpot Again\n",
      "180 Dow flirts with record highs again\n",
      "181 Tropical Storm Isaac forms in Atlantic\n",
      "182 New Iraq terror tape calls for abducting foreigners\n",
      "183 'Deep regret' for ex-HP exec\n",
      "184 'Opportunity' knocks on geologist's dream crater\n",
      "185 Squirrel jumps boy in park; rabies suspected\n",
      "186 Girl left comatose after dental visit dies\n",
      "187 Porn star candidate campaigns on campus\n",
      "188 School ends football season after 0-4 start\n",
      "189 Charlie Sheen to become highest-paid sitcom star\n",
      "190 Jon Stewart mocks benefits of CNN's I\n",
      "191 Ashton Kutcher tells secret to Ryan Seacrest\n",
      "192 Nails-on-chalkboard study earns Ig\n",
      "193 Gunman 'fine' before shooting\n",
      "194 Marijuana may stave off Alzheimer's\n",
      "195 Kentucky seeks alcohol huffing ban\n",
      "196 Toddler died from tainted spinach\n",
      "197 Judge dismisses Karr's porn case\n",
      "198 10 die in 22-hour Kashmir standoff\n",
      "199 Slain Amish girls laid to rest\n",
      "200 5,000 flee plant fire\n",
      "201 Cher auction fetches double pre-sale estimates\n",
      "202 Stars scuffle on 'Grey's Anatomy'\n",
      "203 Probe under way in Yankee crash\n",
      "204 Amish schoolhouse torn down\n",
      "205 Warner will not run in '08\n",
      "206 Reid land deal under scrutiny\n",
      "207 Flooding washes out road to Valdez, Alaska\n",
      "208 Briton admits U.S. bomb plot role\n",
      "209 Commentary: Minutemen have a right to be idiotic\n",
      "210 Madonna files adoption papers\n",
      "211 Gunmen kill 9 at Iraqi TV station\n",
      "212 Hastert sorry for scandal but not quitting\n",
      "213 Ex-JonBenet suspect: Child porn case dropped \n",
      "214 Waste plant fire forces 5,000 to evacuate \n",
      "215 Toddler died from E. coli tainted spinach \n",
      "216 Disturbing finds in child sex raids \n",
      "217 Magazine lists women who had abortions \n",
      "218 Pot smokers may avoid Alzheimer's, study says \n",
      "219 Student starts white men's club on campus \n",
      "220 Kentucky wants to ban alcohol inhalers \n",
      "221 Peter Pan flies into chapter two \n",
      "222 Teen repellent inventor wins infamous prize \n",
      "223 Cher's dress, car, bed have new owners\n",
      "224 Dow hits new record, eyes 12,000 \n",
      "225 Ex-Virginia gov not running for president \n",
      "226 Yankee pitcher's pilot log found \n",
      "228 Dem leader's $1 million land deal under scrutiny \n",
      "229 Dad locked up son, watched on TV, police say \n",
      "230 Navarrette: Minutemen have a right to be idiotic \n",
      "231 Pit bulls jump miniature pony, leave her bloody \n",
      "232 Alaska town cut off from rest of state by flood \n",
      "233 Trailblazing trio protects City by the Bay \n",
      "234 Madonna files adoption papers in Malawi\n",
      "235 'Dr. McDreamy' choked in 'Grey's' scuffle \n",
      "236 $10,000 poetry prize awarded \n",
      "237 Las Vegas honour for tiger pair \n",
      "238 UK characters boosting box office \n",
      "239 Cher items snapped up at auction \n",
      "240 Griffiths scorns Withnail 'play' \n",
      "241 Lily Allen wins web music award \n",
      "242 Costner appeals in casino wrangle\n",
      "243 Beyonce copyright claim rejected \n",
      "244 Cohn gunman jailed for 36 years \n",
      "245 Melua's deep sea gig sets record \n",
      "246 Sri Lanka clashes kill 129 troops \n",
      "247 Gunmen kill 11 in Iraq TV raid \n",
      "248 Italy drops Sicily bridge plans \n",
      "249 Amish killings school demolished \n",
      "250 Pamuk wins Nobel Literature prize\n",
      "251 Madonna adoption bid approved \n",
      "252 Man admits UK-US terror bomb plot\n",
      "253 Who are you calling fat?\n"
     ]
    }
   ],
   "source": [
    "for child in root:\n",
    "    print(child.attrib['id'],child.text)"
   ]
  },
  {
   "cell_type": "code",
   "execution_count": 21,
   "metadata": {
    "colab": {
     "base_uri": "https://localhost:8080/",
     "height": 35
    },
    "executionInfo": {
     "elapsed": 10604,
     "status": "ok",
     "timestamp": 1619188230811,
     "user": {
      "displayName": "2020 18010",
      "photoUrl": "",
      "userId": "14677844295391768051"
     },
     "user_tz": -330
    },
    "id": "spoken-energy",
    "outputId": "dd921d0f-22db-4741-bcc0-27b5c6f55df7",
    "scrolled": true
   },
   "outputs": [
    {
     "data": {
      "application/vnd.google.colaboratory.intrinsic+json": {
       "type": "string"
      },
      "text/plain": [
       "'253'"
      ]
     },
     "execution_count": 21,
     "metadata": {
      "tags": []
     },
     "output_type": "execute_result"
    }
   ],
   "source": [
    "child.attrib['id']"
   ]
  },
  {
   "cell_type": "code",
   "execution_count": 22,
   "metadata": {
    "colab": {
     "base_uri": "https://localhost:8080/",
     "height": 449
    },
    "executionInfo": {
     "elapsed": 9397,
     "status": "ok",
     "timestamp": 1619188230812,
     "user": {
      "displayName": "2020 18010",
      "photoUrl": "",
      "userId": "14677844295391768051"
     },
     "user_tz": -330
    },
    "id": "controversial-thailand",
    "outputId": "5a8698a7-f4e2-4684-b6d4-a920a9df1b03"
   },
   "outputs": [
    {
     "data": {
      "text/html": [
       "<div>\n",
       "<style scoped>\n",
       "    .dataframe tbody tr th:only-of-type {\n",
       "        vertical-align: middle;\n",
       "    }\n",
       "\n",
       "    .dataframe tbody tr th {\n",
       "        vertical-align: top;\n",
       "    }\n",
       "\n",
       "    .dataframe thead th {\n",
       "        text-align: right;\n",
       "    }\n",
       "</style>\n",
       "<table border=\"1\" class=\"dataframe\">\n",
       "  <thead>\n",
       "    <tr style=\"text-align: right;\">\n",
       "      <th></th>\n",
       "      <th>1</th>\n",
       "      <th>2</th>\n",
       "      <th>3</th>\n",
       "      <th>4</th>\n",
       "      <th>5</th>\n",
       "    </tr>\n",
       "    <tr>\n",
       "      <th>0</th>\n",
       "      <th></th>\n",
       "      <th></th>\n",
       "      <th></th>\n",
       "      <th></th>\n",
       "      <th></th>\n",
       "    </tr>\n",
       "  </thead>\n",
       "  <tbody>\n",
       "    <tr>\n",
       "      <th>1</th>\n",
       "      <td>22</td>\n",
       "      <td>2</td>\n",
       "      <td>60</td>\n",
       "      <td>0</td>\n",
       "      <td>64</td>\n",
       "    </tr>\n",
       "    <tr>\n",
       "      <th>2</th>\n",
       "      <td>0</td>\n",
       "      <td>0</td>\n",
       "      <td>0</td>\n",
       "      <td>93</td>\n",
       "      <td>0</td>\n",
       "    </tr>\n",
       "    <tr>\n",
       "      <th>3</th>\n",
       "      <td>18</td>\n",
       "      <td>0</td>\n",
       "      <td>52</td>\n",
       "      <td>66</td>\n",
       "      <td>20</td>\n",
       "    </tr>\n",
       "    <tr>\n",
       "      <th>4</th>\n",
       "      <td>66</td>\n",
       "      <td>39</td>\n",
       "      <td>94</td>\n",
       "      <td>0</td>\n",
       "      <td>86</td>\n",
       "    </tr>\n",
       "    <tr>\n",
       "      <th>5</th>\n",
       "      <td>0</td>\n",
       "      <td>0</td>\n",
       "      <td>25</td>\n",
       "      <td>26</td>\n",
       "      <td>2</td>\n",
       "    </tr>\n",
       "    <tr>\n",
       "      <th>...</th>\n",
       "      <td>...</td>\n",
       "      <td>...</td>\n",
       "      <td>...</td>\n",
       "      <td>...</td>\n",
       "      <td>...</td>\n",
       "    </tr>\n",
       "    <tr>\n",
       "      <th>249</th>\n",
       "      <td>33</td>\n",
       "      <td>33</td>\n",
       "      <td>42</td>\n",
       "      <td>0</td>\n",
       "      <td>44</td>\n",
       "    </tr>\n",
       "    <tr>\n",
       "      <th>250</th>\n",
       "      <td>0</td>\n",
       "      <td>0</td>\n",
       "      <td>0</td>\n",
       "      <td>89</td>\n",
       "      <td>0</td>\n",
       "    </tr>\n",
       "    <tr>\n",
       "      <th>251</th>\n",
       "      <td>0</td>\n",
       "      <td>0</td>\n",
       "      <td>0</td>\n",
       "      <td>48</td>\n",
       "      <td>0</td>\n",
       "    </tr>\n",
       "    <tr>\n",
       "      <th>252</th>\n",
       "      <td>33</td>\n",
       "      <td>43</td>\n",
       "      <td>61</td>\n",
       "      <td>0</td>\n",
       "      <td>33</td>\n",
       "    </tr>\n",
       "    <tr>\n",
       "      <th>253</th>\n",
       "      <td>0</td>\n",
       "      <td>16</td>\n",
       "      <td>0</td>\n",
       "      <td>0</td>\n",
       "      <td>12</td>\n",
       "    </tr>\n",
       "  </tbody>\n",
       "</table>\n",
       "<p>250 rows × 5 columns</p>\n",
       "</div>"
      ],
      "text/plain": [
       "      1   2   3   4   5\n",
       "0                      \n",
       "1    22   2  60   0  64\n",
       "2     0   0   0  93   0\n",
       "3    18   0  52  66  20\n",
       "4    66  39  94   0  86\n",
       "5     0   0  25  26   2\n",
       "..   ..  ..  ..  ..  ..\n",
       "249  33  33  42   0  44\n",
       "250   0   0   0  89   0\n",
       "251   0   0   0  48   0\n",
       "252  33  43  61   0  33\n",
       "253   0  16   0   0  12\n",
       "\n",
       "[250 rows x 5 columns]"
      ]
     },
     "execution_count": 22,
     "metadata": {
      "tags": []
     },
     "output_type": "execute_result"
    }
   ],
   "source": [
    "semeval=pd.read_csv(f\"{PATH}/semeval/semeval.trial/affectivetext_trial.emotions.gold\",delimiter=\" \",header=None)\n",
    "semeval=semeval.set_index(0)\n",
    "semeval=semeval.drop(labels=6,axis=1)\n",
    "semeval"
   ]
  },
  {
   "cell_type": "code",
   "execution_count": 23,
   "metadata": {
    "executionInfo": {
     "elapsed": 8498,
     "status": "ok",
     "timestamp": 1619188230813,
     "user": {
      "displayName": "2020 18010",
      "photoUrl": "",
      "userId": "14677844295391768051"
     },
     "user_tz": -330
    },
    "id": "stopped-georgia"
   },
   "outputs": [],
   "source": [
    "EmoDict={0:'anger',\n",
    "         1:'disgust',\n",
    "         2:'fear',\n",
    "         3:'joy',\n",
    "         4:'sadness'}\n",
    "semList=[]\n",
    "for i in semeval.to_numpy():\n",
    "    semList.append(EmoDict[np.argmax(i)])"
   ]
  },
  {
   "cell_type": "code",
   "execution_count": 24,
   "metadata": {
    "executionInfo": {
     "elapsed": 7448,
     "status": "ok",
     "timestamp": 1619188230814,
     "user": {
      "displayName": "2020 18010",
      "photoUrl": "",
      "userId": "14677844295391768051"
     },
     "user_tz": -330
    },
    "id": "catholic-nomination"
   },
   "outputs": [],
   "source": [
    "semData=[]\n",
    "for child in root:\n",
    "    semData.append(child.text)"
   ]
  },
  {
   "cell_type": "code",
   "execution_count": 25,
   "metadata": {
    "executionInfo": {
     "elapsed": 6831,
     "status": "ok",
     "timestamp": 1619188230815,
     "user": {
      "displayName": "2020 18010",
      "photoUrl": "",
      "userId": "14677844295391768051"
     },
     "user_tz": -330
    },
    "id": "brave-chest"
   },
   "outputs": [],
   "source": [
    "semdf=pd.DataFrame(semList)\n",
    "semdf[1]=semData\n",
    "\n",
    "#Including valence\n",
    "semval=pd.read_csv(f\"{PATH}/semeval/semeval.trial/affectivetext_trial.valence.gold\",delimiter=\" \",header=None)\n",
    "semdf[2]=semval[1]\n",
    "semdf=semdf.set_index(0)\n",
    "semdf=semdf.sort_index()"
   ]
  },
  {
   "cell_type": "markdown",
   "metadata": {
    "id": "8xVhY63LMrQn"
   },
   "source": [
    "# Training LSTM"
   ]
  },
  {
   "cell_type": "markdown",
   "metadata": {},
   "source": [
    "- Creating input matrix"
   ]
  },
  {
   "cell_type": "code",
   "execution_count": 40,
   "metadata": {
    "executionInfo": {
     "elapsed": 15149,
     "status": "ok",
     "timestamp": 1619190342907,
     "user": {
      "displayName": "2020 18010",
      "photoUrl": "",
      "userId": "14677844295391768051"
     },
     "user_tz": -330
    },
    "id": "jIh1p83oM84X"
   },
   "outputs": [],
   "source": [
    "Corpus=[]\n",
    "for i in df[1]:\n",
    "    Corpus.append(CorFilt(i))\n",
    "X=vectorizer.transform(Corpus)\n",
    "X=X.toarray().reshape(X.shape[0],1,X.shape[-1])"
   ]
  },
  {
   "cell_type": "code",
   "execution_count": 41,
   "metadata": {
    "colab": {
     "base_uri": "https://localhost:8080/"
    },
    "executionInfo": {
     "elapsed": 14968,
     "status": "ok",
     "timestamp": 1619190342908,
     "user": {
      "displayName": "2020 18010",
      "photoUrl": "",
      "userId": "14677844295391768051"
     },
     "user_tz": -330
    },
    "id": "BcwgJvi5W3kA",
    "outputId": "1ec396e0-4859-4349-cee0-4752f114f951"
   },
   "outputs": [
    {
     "data": {
      "text/plain": [
       "(11056, 1, 7309)"
      ]
     },
     "execution_count": 41,
     "metadata": {
      "tags": []
     },
     "output_type": "execute_result"
    }
   ],
   "source": [
    "X.shape"
   ]
  },
  {
   "cell_type": "markdown",
   "metadata": {},
   "source": [
    "- Creating output matrix"
   ]
  },
  {
   "cell_type": "code",
   "execution_count": 42,
   "metadata": {
    "executionInfo": {
     "elapsed": 14824,
     "status": "ok",
     "timestamp": 1619190342911,
     "user": {
      "displayName": "2020 18010",
      "photoUrl": "",
      "userId": "14677844295391768051"
     },
     "user_tz": -330
    },
    "id": "OTXQuwK8XB-6"
   },
   "outputs": [],
   "source": [
    "from sklearn.preprocessing import OneHotEncoder\n",
    "\n",
    "enc=OneHotEncoder(sparse=False)\n",
    "enc.fit(np.array(df.index).reshape(-1,1))\n",
    "y=enc.transform(np.array(df.index).reshape(-1,1))"
   ]
  },
  {
   "cell_type": "code",
   "execution_count": 43,
   "metadata": {
    "colab": {
     "base_uri": "https://localhost:8080/"
    },
    "executionInfo": {
     "elapsed": 14203,
     "status": "ok",
     "timestamp": 1619190342911,
     "user": {
      "displayName": "2020 18010",
      "photoUrl": "",
      "userId": "14677844295391768051"
     },
     "user_tz": -330
    },
    "id": "A7IkjkIeZL_p",
    "outputId": "674c6187-affb-4093-bf1c-144b7d04501e"
   },
   "outputs": [
    {
     "data": {
      "text/plain": [
       "(11056, 5)"
      ]
     },
     "execution_count": 43,
     "metadata": {
      "tags": []
     },
     "output_type": "execute_result"
    }
   ],
   "source": [
    "y.shape"
   ]
  },
  {
   "cell_type": "code",
   "execution_count": 44,
   "metadata": {
    "colab": {
     "base_uri": "https://localhost:8080/"
    },
    "executionInfo": {
     "elapsed": 210494,
     "status": "ok",
     "timestamp": 1619190539759,
     "user": {
      "displayName": "2020 18010",
      "photoUrl": "",
      "userId": "14677844295391768051"
     },
     "user_tz": -330
    },
    "id": "_pUQEi4CXs4H",
    "outputId": "240d9874-6939-4cf2-d538-a1397fc191ff"
   },
   "outputs": [
    {
     "name": "stdout",
     "output_type": "stream",
     "text": [
      "Epoch 1/50\n",
      "346/346 [==============================] - 7s 11ms/step - loss: 1.5690 - accuracy: 0.2494\n",
      "Epoch 2/50\n",
      "346/346 [==============================] - 4s 11ms/step - loss: 1.1303 - accuracy: 0.5442\n",
      "Epoch 3/50\n",
      "346/346 [==============================] - 4s 10ms/step - loss: 0.8559 - accuracy: 0.6634\n",
      "Epoch 4/50\n",
      "346/346 [==============================] - 4s 10ms/step - loss: 0.7247 - accuracy: 0.6996\n",
      "Epoch 5/50\n",
      "346/346 [==============================] - 4s 10ms/step - loss: 0.6616 - accuracy: 0.7150\n",
      "Epoch 6/50\n",
      "346/346 [==============================] - 4s 10ms/step - loss: 0.5953 - accuracy: 0.7281\n",
      "Epoch 7/50\n",
      "346/346 [==============================] - 4s 10ms/step - loss: 0.5707 - accuracy: 0.7331\n",
      "Epoch 8/50\n",
      "346/346 [==============================] - 4s 10ms/step - loss: 0.5569 - accuracy: 0.7231\n",
      "Epoch 9/50\n",
      "346/346 [==============================] - 4s 10ms/step - loss: 0.5102 - accuracy: 0.7368\n",
      "Epoch 10/50\n",
      "346/346 [==============================] - 4s 10ms/step - loss: 0.5004 - accuracy: 0.7436\n",
      "Epoch 11/50\n",
      "346/346 [==============================] - 4s 10ms/step - loss: 0.4776 - accuracy: 0.7430\n",
      "Epoch 12/50\n",
      "346/346 [==============================] - 4s 10ms/step - loss: 0.4764 - accuracy: 0.7476\n",
      "Epoch 13/50\n",
      "346/346 [==============================] - 4s 10ms/step - loss: 0.4626 - accuracy: 0.7592\n",
      "Epoch 14/50\n",
      "346/346 [==============================] - 4s 10ms/step - loss: 0.4618 - accuracy: 0.7479\n",
      "Epoch 15/50\n",
      "346/346 [==============================] - 4s 11ms/step - loss: 0.4512 - accuracy: 0.7557\n",
      "Epoch 16/50\n",
      "346/346 [==============================] - 4s 11ms/step - loss: 0.4412 - accuracy: 0.7554\n",
      "Epoch 17/50\n",
      "346/346 [==============================] - 4s 11ms/step - loss: 0.4488 - accuracy: 0.7549\n",
      "Epoch 18/50\n",
      "346/346 [==============================] - 4s 11ms/step - loss: 0.4326 - accuracy: 0.7621\n",
      "Epoch 19/50\n",
      "346/346 [==============================] - 4s 11ms/step - loss: 0.4469 - accuracy: 0.7516\n",
      "Epoch 20/50\n",
      "346/346 [==============================] - 4s 11ms/step - loss: 0.4288 - accuracy: 0.7593\n",
      "Epoch 21/50\n",
      "346/346 [==============================] - 4s 11ms/step - loss: 0.4258 - accuracy: 0.7615\n",
      "Epoch 22/50\n",
      "346/346 [==============================] - 4s 11ms/step - loss: 0.4274 - accuracy: 0.7607\n",
      "Epoch 23/50\n",
      "346/346 [==============================] - 4s 11ms/step - loss: 0.4220 - accuracy: 0.7581\n",
      "Epoch 24/50\n",
      "346/346 [==============================] - 4s 11ms/step - loss: 0.4265 - accuracy: 0.7616\n",
      "Epoch 25/50\n",
      "346/346 [==============================] - 4s 11ms/step - loss: 0.4289 - accuracy: 0.7515\n",
      "Epoch 26/50\n",
      "346/346 [==============================] - 4s 11ms/step - loss: 0.4011 - accuracy: 0.7674\n",
      "Epoch 27/50\n",
      "346/346 [==============================] - 4s 11ms/step - loss: 0.4245 - accuracy: 0.7575\n",
      "Epoch 28/50\n",
      "346/346 [==============================] - 4s 11ms/step - loss: 0.4148 - accuracy: 0.7660\n",
      "Epoch 29/50\n",
      "346/346 [==============================] - 4s 12ms/step - loss: 0.4200 - accuracy: 0.7601\n",
      "Epoch 30/50\n",
      "346/346 [==============================] - 4s 12ms/step - loss: 0.4166 - accuracy: 0.7635\n",
      "Epoch 31/50\n",
      "346/346 [==============================] - 4s 12ms/step - loss: 0.4091 - accuracy: 0.7624\n",
      "Epoch 32/50\n",
      "346/346 [==============================] - 4s 12ms/step - loss: 0.4152 - accuracy: 0.7614\n",
      "Epoch 33/50\n",
      "346/346 [==============================] - 4s 12ms/step - loss: 0.4145 - accuracy: 0.7609\n",
      "Epoch 34/50\n",
      "346/346 [==============================] - 4s 12ms/step - loss: 0.4110 - accuracy: 0.7646\n",
      "Epoch 35/50\n",
      "346/346 [==============================] - 4s 12ms/step - loss: 0.4034 - accuracy: 0.7698\n",
      "Epoch 36/50\n",
      "346/346 [==============================] - 4s 12ms/step - loss: 0.4199 - accuracy: 0.7562\n",
      "Epoch 37/50\n",
      "346/346 [==============================] - 4s 12ms/step - loss: 0.4071 - accuracy: 0.7712\n",
      "Epoch 38/50\n",
      "346/346 [==============================] - 4s 12ms/step - loss: 0.4072 - accuracy: 0.7608\n",
      "Epoch 39/50\n",
      "346/346 [==============================] - 4s 12ms/step - loss: 0.4075 - accuracy: 0.7636\n",
      "Epoch 40/50\n",
      "346/346 [==============================] - 4s 12ms/step - loss: 0.4046 - accuracy: 0.7662\n",
      "Epoch 41/50\n",
      "346/346 [==============================] - 4s 12ms/step - loss: 0.4113 - accuracy: 0.7605\n",
      "Epoch 42/50\n",
      "346/346 [==============================] - 4s 12ms/step - loss: 0.4086 - accuracy: 0.7689\n",
      "Epoch 43/50\n",
      "346/346 [==============================] - 4s 11ms/step - loss: 0.4103 - accuracy: 0.7612\n",
      "Epoch 44/50\n",
      "346/346 [==============================] - 4s 11ms/step - loss: 0.4067 - accuracy: 0.7678\n",
      "Epoch 45/50\n",
      "346/346 [==============================] - 4s 11ms/step - loss: 0.4074 - accuracy: 0.7622\n",
      "Epoch 46/50\n",
      "346/346 [==============================] - 4s 11ms/step - loss: 0.4123 - accuracy: 0.7656\n",
      "Epoch 47/50\n",
      "346/346 [==============================] - 4s 11ms/step - loss: 0.3944 - accuracy: 0.7732\n",
      "Epoch 48/50\n",
      "346/346 [==============================] - 4s 11ms/step - loss: 0.4083 - accuracy: 0.7575\n",
      "Epoch 49/50\n",
      "346/346 [==============================] - 4s 11ms/step - loss: 0.4039 - accuracy: 0.7619\n",
      "Epoch 50/50\n",
      "346/346 [==============================] - 4s 11ms/step - loss: 0.4062 - accuracy: 0.7614\n"
     ]
    },
    {
     "data": {
      "text/plain": [
       "<tensorflow.python.keras.callbacks.History at 0x7fb7137fab50>"
      ]
     },
     "execution_count": 44,
     "metadata": {
      "tags": []
     },
     "output_type": "execute_result"
    }
   ],
   "source": [
    "import tensorflow as tf\n",
    "from tensorflow.keras.models import Sequential\n",
    "from tensorflow.keras.layers import Dense, Dropout, LSTM, BatchNormalization#, CuDNNLSTM\n",
    "\n",
    "model = Sequential()\n",
    "\n",
    "model.add(LSTM(128, input_shape=(X.shape[1:]),return_sequences=True))\n",
    "model.add(Dropout(0.2))\n",
    "\n",
    "model.add(LSTM(64, input_shape=(X.shape[1:])))\n",
    "model.add(Dropout(0.2))\n",
    "\n",
    "model.add(Dense(32, activation='relu'))\n",
    "model.add(Dropout(0.2))\n",
    "\n",
    "model.add(Dense(y.shape[1], activation='softmax'))\n",
    "\n",
    "opt = tf.keras.optimizers.Adam(lr=0.001)\n",
    "\n",
    "# Compile model\n",
    "model.compile(\n",
    "    loss='categorical_crossentropy',\n",
    "    optimizer=opt,\n",
    "    metrics=['accuracy']\n",
    ")\n",
    "\n",
    "model.fit(X,\n",
    "          y,\n",
    "          epochs=50)\n",
    "# model.save(PATH+\"/models/\")"
   ]
  },
  {
   "cell_type": "code",
   "execution_count": 50,
   "metadata": {
    "colab": {
     "base_uri": "https://localhost:8080/"
    },
    "executionInfo": {
     "elapsed": 12745,
     "status": "ok",
     "timestamp": 1619190975493,
     "user": {
      "displayName": "2020 18010",
      "photoUrl": "",
      "userId": "14677844295391768051"
     },
     "user_tz": -330
    },
    "id": "ViSqBKWDTUhK",
    "outputId": "86723e92-52d4-4b1c-d04a-3805fc5f403d"
   },
   "outputs": [
    {
     "name": "stderr",
     "output_type": "stream",
     "text": [
      "WARNING:absl:Found untraced functions such as lstm_cell_2_layer_call_fn, lstm_cell_2_layer_call_and_return_conditional_losses, lstm_cell_3_layer_call_fn, lstm_cell_3_layer_call_and_return_conditional_losses, lstm_cell_2_layer_call_fn while saving (showing 5 of 10). These functions will not be directly callable after loading.\n",
      "WARNING:absl:Found untraced functions such as lstm_cell_2_layer_call_fn, lstm_cell_2_layer_call_and_return_conditional_losses, lstm_cell_3_layer_call_fn, lstm_cell_3_layer_call_and_return_conditional_losses, lstm_cell_2_layer_call_fn while saving (showing 5 of 10). These functions will not be directly callable after loading.\n"
     ]
    },
    {
     "name": "stdout",
     "output_type": "stream",
     "text": [
      "INFO:tensorflow:Assets written to: /content/drive/MyDrive/SEM2/IR/Sentiment_Analysis/models/assets\n"
     ]
    },
    {
     "name": "stderr",
     "output_type": "stream",
     "text": [
      "INFO:tensorflow:Assets written to: /content/drive/MyDrive/SEM2/IR/Sentiment_Analysis/models/assets\n"
     ]
    }
   ],
   "source": [
    "model.save(PATH+\"/models/\")"
   ]
  },
  {
   "cell_type": "code",
   "execution_count": 51,
   "metadata": {
    "colab": {
     "base_uri": "https://localhost:8080/"
    },
    "executionInfo": {
     "elapsed": 1131,
     "status": "ok",
     "timestamp": 1619191062022,
     "user": {
      "displayName": "2020 18010",
      "photoUrl": "",
      "userId": "14677844295391768051"
     },
     "user_tz": -330
    },
    "id": "LqZadvoHTr7P",
    "outputId": "83348995-7781-441f-faa5-da7e96e5ac97"
   },
   "outputs": [
    {
     "name": "stdout",
     "output_type": "stream",
     "text": [
      "Model: \"sequential_2\"\n",
      "_________________________________________________________________\n",
      "Layer (type)                 Output Shape              Param #   \n",
      "=================================================================\n",
      "lstm_2 (LSTM)                (None, 1, 128)            3808256   \n",
      "_________________________________________________________________\n",
      "dropout (Dropout)            (None, 1, 128)            0         \n",
      "_________________________________________________________________\n",
      "lstm_3 (LSTM)                (None, 64)                49408     \n",
      "_________________________________________________________________\n",
      "dropout_1 (Dropout)          (None, 64)                0         \n",
      "_________________________________________________________________\n",
      "dense_1 (Dense)              (None, 32)                2080      \n",
      "_________________________________________________________________\n",
      "dropout_2 (Dropout)          (None, 32)                0         \n",
      "_________________________________________________________________\n",
      "dense_2 (Dense)              (None, 5)                 165       \n",
      "=================================================================\n",
      "Total params: 3,859,909\n",
      "Trainable params: 3,859,909\n",
      "Non-trainable params: 0\n",
      "_________________________________________________________________\n"
     ]
    }
   ],
   "source": [
    "model.summary()"
   ]
  },
  {
   "cell_type": "markdown",
   "metadata": {
    "id": "JdLoulHiaoOc"
   },
   "source": [
    "# Testing"
   ]
  },
  {
   "cell_type": "code",
   "execution_count": 33,
   "metadata": {
    "colab": {
     "base_uri": "https://localhost:8080/",
     "height": 449
    },
    "executionInfo": {
     "elapsed": 939,
     "status": "ok",
     "timestamp": 1619190262836,
     "user": {
      "displayName": "2020 18010",
      "photoUrl": "",
      "userId": "14677844295391768051"
     },
     "user_tz": -330
    },
    "id": "WlYYkzO6ZTws",
    "outputId": "cc6093e5-edc0-4a2b-bb34-6dcff9a7ec8e"
   },
   "outputs": [
    {
     "data": {
      "text/html": [
       "<div>\n",
       "<style scoped>\n",
       "    .dataframe tbody tr th:only-of-type {\n",
       "        vertical-align: middle;\n",
       "    }\n",
       "\n",
       "    .dataframe tbody tr th {\n",
       "        vertical-align: top;\n",
       "    }\n",
       "\n",
       "    .dataframe thead th {\n",
       "        text-align: right;\n",
       "    }\n",
       "</style>\n",
       "<table border=\"1\" class=\"dataframe\">\n",
       "  <thead>\n",
       "    <tr style=\"text-align: right;\">\n",
       "      <th></th>\n",
       "      <th>1</th>\n",
       "      <th>2</th>\n",
       "    </tr>\n",
       "    <tr>\n",
       "      <th>0</th>\n",
       "      <th></th>\n",
       "      <th></th>\n",
       "    </tr>\n",
       "  </thead>\n",
       "  <tbody>\n",
       "    <tr>\n",
       "      <th>anger</th>\n",
       "      <td>Sony Hates Europeans, Will Prevent The Importi...</td>\n",
       "      <td>-19</td>\n",
       "    </tr>\n",
       "    <tr>\n",
       "      <th>anger</th>\n",
       "      <td>Budapest calm after night of violent protests</td>\n",
       "      <td>-12</td>\n",
       "    </tr>\n",
       "    <tr>\n",
       "      <th>anger</th>\n",
       "      <td>Genghis Khan Beer? Mongolia Grimaces</td>\n",
       "      <td>0</td>\n",
       "    </tr>\n",
       "    <tr>\n",
       "      <th>anger</th>\n",
       "      <td>Managua Journal: Hold the Mojito and Margarita...</td>\n",
       "      <td>0</td>\n",
       "    </tr>\n",
       "    <tr>\n",
       "      <th>anger</th>\n",
       "      <td>Lebo: A life lived on the edge</td>\n",
       "      <td>0</td>\n",
       "    </tr>\n",
       "    <tr>\n",
       "      <th>...</th>\n",
       "      <td>...</td>\n",
       "      <td>...</td>\n",
       "    </tr>\n",
       "    <tr>\n",
       "      <th>sadness</th>\n",
       "      <td>Marine killed in fighting west of Baghdad</td>\n",
       "      <td>-58</td>\n",
       "    </tr>\n",
       "    <tr>\n",
       "      <th>sadness</th>\n",
       "      <td>New Indonesia Calamity, a Mud Bath, Is Man-Made</td>\n",
       "      <td>-56</td>\n",
       "    </tr>\n",
       "    <tr>\n",
       "      <th>sadness</th>\n",
       "      <td>Gunman 'fine' before shooting</td>\n",
       "      <td>-26</td>\n",
       "    </tr>\n",
       "    <tr>\n",
       "      <th>sadness</th>\n",
       "      <td>Deaths linked to flu vaccine</td>\n",
       "      <td>-52</td>\n",
       "    </tr>\n",
       "    <tr>\n",
       "      <th>sadness</th>\n",
       "      <td>Mortar assault leaves at least 18 dead</td>\n",
       "      <td>-98</td>\n",
       "    </tr>\n",
       "  </tbody>\n",
       "</table>\n",
       "<p>250 rows × 2 columns</p>\n",
       "</div>"
      ],
      "text/plain": [
       "                                                         1   2\n",
       "0                                                             \n",
       "anger    Sony Hates Europeans, Will Prevent The Importi... -19\n",
       "anger        Budapest calm after night of violent protests -12\n",
       "anger                 Genghis Khan Beer? Mongolia Grimaces   0\n",
       "anger    Managua Journal: Hold the Mojito and Margarita...   0\n",
       "anger                       Lebo: A life lived on the edge   0\n",
       "...                                                    ...  ..\n",
       "sadness          Marine killed in fighting west of Baghdad -58\n",
       "sadness    New Indonesia Calamity, a Mud Bath, Is Man-Made -56\n",
       "sadness                      Gunman 'fine' before shooting -26\n",
       "sadness                       Deaths linked to flu vaccine -52\n",
       "sadness             Mortar assault leaves at least 18 dead -98\n",
       "\n",
       "[250 rows x 2 columns]"
      ]
     },
     "execution_count": 33,
     "metadata": {
      "tags": []
     },
     "output_type": "execute_result"
    }
   ],
   "source": [
    "semdf"
   ]
  },
  {
   "cell_type": "code",
   "execution_count": 45,
   "metadata": {
    "executionInfo": {
     "elapsed": 1672,
     "status": "ok",
     "timestamp": 1619190573311,
     "user": {
      "displayName": "2020 18010",
      "photoUrl": "",
      "userId": "14677844295391768051"
     },
     "user_tz": -330
    },
    "id": "7hr8o20Ib6_K"
   },
   "outputs": [],
   "source": [
    "def EmopreD(sent,model=model,vectorizer=vectorizer):\n",
    "    EmoDict={0:'anger',\n",
    "        1:'disgust',\n",
    "        2:'fear',\n",
    "        3:'joy',\n",
    "        4:'sadness'}\n",
    "        \n",
    "    buff=vectorizer.transform([CorFilt(sent)]).toarray()\n",
    "    return EmoDict[np.argmax(model.predict(buff.reshape(1,1,buff.shape[1])))]"
   ]
  },
  {
   "cell_type": "code",
   "execution_count": 46,
   "metadata": {
    "colab": {
     "base_uri": "https://localhost:8080/",
     "height": 35
    },
    "executionInfo": {
     "elapsed": 2332,
     "status": "ok",
     "timestamp": 1619190574125,
     "user": {
      "displayName": "2020 18010",
      "photoUrl": "",
      "userId": "14677844295391768051"
     },
     "user_tz": -330
    },
    "id": "kYjqoe3Aa7Y4",
    "outputId": "f5be8002-228c-4bf6-f9cb-ff13c32257dd"
   },
   "outputs": [
    {
     "data": {
      "application/vnd.google.colaboratory.intrinsic+json": {
       "type": "string"
      },
      "text/plain": [
       "'fear'"
      ]
     },
     "execution_count": 46,
     "metadata": {
      "tags": []
     },
     "output_type": "execute_result"
    }
   ],
   "source": [
    "buff=vectorizer.transform([CorFilt(semdf[1][0])]).toarray()\n",
    "EmoDict[np.argmax(model.predict(buff.reshape(1,1,buff.shape[1])))]"
   ]
  },
  {
   "cell_type": "code",
   "execution_count": 47,
   "metadata": {
    "executionInfo": {
     "elapsed": 1597,
     "status": "ok",
     "timestamp": 1619190578115,
     "user": {
      "displayName": "2020 18010",
      "photoUrl": "",
      "userId": "14677844295391768051"
     },
     "user_tz": -330
    },
    "id": "dhpVfqiMamgX"
   },
   "outputs": [],
   "source": [
    "def Tester(df,model=model):\n",
    "    y_pred=[]\n",
    "    for i in range(len(df)):\n",
    "        y_pred.append(EmopreD(df[1][i]))\n",
    "    print(classification_report(df.index,y_pred))"
   ]
  },
  {
   "cell_type": "code",
   "execution_count": 48,
   "metadata": {
    "colab": {
     "base_uri": "https://localhost:8080/"
    },
    "executionInfo": {
     "elapsed": 12624,
     "status": "ok",
     "timestamp": 1619190591525,
     "user": {
      "displayName": "2020 18010",
      "photoUrl": "",
      "userId": "14677844295391768051"
     },
     "user_tz": -330
    },
    "id": "XH5TRCkxbv1J",
    "outputId": "3469efaa-c300-4d6c-f29e-8a5b9c3fcdd8"
   },
   "outputs": [
    {
     "name": "stdout",
     "output_type": "stream",
     "text": [
      "              precision    recall  f1-score   support\n",
      "\n",
      "       anger       0.24      0.30      0.27        37\n",
      "     disgust       0.05      0.06      0.05        16\n",
      "        fear       0.31      0.53      0.39        38\n",
      "         joy       0.68      0.47      0.56        95\n",
      "     sadness       0.40      0.33      0.36        64\n",
      "\n",
      "    accuracy                           0.39       250\n",
      "   macro avg       0.34      0.34      0.33       250\n",
      "weighted avg       0.45      0.39      0.41       250\n",
      "\n"
     ]
    }
   ],
   "source": [
    "Tester(semdf)"
   ]
  },
  {
   "cell_type": "markdown",
   "metadata": {},
   "source": [
    "- The accuracy is higher than what literature could achieve with VSM model in this case."
   ]
  },
  {
   "cell_type": "markdown",
   "metadata": {},
   "source": [
    "- Testing with a complex statement"
   ]
  },
  {
   "cell_type": "code",
   "execution_count": 55,
   "metadata": {
    "colab": {
     "base_uri": "https://localhost:8080/",
     "height": 35
    },
    "executionInfo": {
     "elapsed": 1334,
     "status": "ok",
     "timestamp": 1619191772834,
     "user": {
      "displayName": "2020 18010",
      "photoUrl": "",
      "userId": "14677844295391768051"
     },
     "user_tz": -330
    },
    "id": "fVzJwOZGcnvw",
    "outputId": "9fb427a8-44e2-47ee-e62a-3c21b498a19f"
   },
   "outputs": [
    {
     "data": {
      "application/vnd.google.colaboratory.intrinsic+json": {
       "type": "string"
      },
      "text/plain": [
       "'anger'"
      ]
     },
     "execution_count": 55,
     "metadata": {
      "tags": []
     },
     "output_type": "execute_result"
    }
   ],
   "source": [
    "EmopreD(\"a good perfectly parceled dead body\")"
   ]
  }
 ],
 "metadata": {
  "accelerator": "GPU",
  "colab": {
   "authorship_tag": "ABX9TyNHEShNgZVd08O/Ij0OYS5I",
   "collapsed_sections": [],
   "mount_file_id": "1zDgbilwbbRDezVky_pq00S8sCkyWNRrH",
   "name": "Sentiment LSTM.ipynb",
   "provenance": []
  },
  "kernelspec": {
   "display_name": "Python 3",
   "language": "python",
   "name": "python3"
  },
  "language_info": {
   "codemirror_mode": {
    "name": "ipython",
    "version": 3
   },
   "file_extension": ".py",
   "mimetype": "text/x-python",
   "name": "python",
   "nbconvert_exporter": "python",
   "pygments_lexer": "ipython3",
   "version": "3.8.9"
  }
 },
 "nbformat": 4,
 "nbformat_minor": 4
}
