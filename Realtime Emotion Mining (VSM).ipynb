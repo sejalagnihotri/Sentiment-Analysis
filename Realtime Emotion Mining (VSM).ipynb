{
 "cells": [
  {
   "cell_type": "code",
   "execution_count": 1,
   "id": "noted-efficiency",
   "metadata": {},
   "outputs": [],
   "source": [
    "import numpy as np\n",
    "from nltk.stem import PorterStemmer\n",
    "from nltk.tokenize import word_tokenize\n",
    "from nltk import pos_tag\n",
    "from textblob import TextBlob\n",
    "from sklearn.feature_extraction.text import TfidfVectorizer\n",
    "from sklearn.metrics.pairwise import cosine_similarity\n",
    "import subprocess\n"
   ]
  },
  {
   "cell_type": "code",
   "execution_count": 2,
   "id": "increased-auction",
   "metadata": {},
   "outputs": [],
   "source": [
    "stopwords=['i', 'me', 'my', 'myself', 'we', 'our', 'ours', 'ourselves', 'you', \"you're\", \"you've\", \"you'll\", \"you'd\", 'your', 'yours', 'yourself', 'yourselves', 'he', 'him', 'his', 'himself', 'she', \"she's\", 'her', 'hers', 'herself', 'it', \"it's\", 'its', 'itself', 'they', 'them', 'their', 'theirs', 'themselves', 'what', 'which', 'who', 'whom', 'this', 'that', \"that'll\", 'these', 'those', 'am', 'is', 'are', 'was', 'were', 'be', 'been', 'being', 'have', 'has', 'had', 'having', 'do', 'does', 'did', 'doing', 'a', 'an', 'the', 'and', 'but', 'if', 'or', 'because', 'as', 'until', 'while', 'of', 'at', 'by', 'for', 'with', 'about', 'against', 'between', 'into', 'through', 'during', 'before', 'after', 'above', 'below', 'to', 'from', 'up', 'down', 'in', 'out', 'on', 'off', 'over', 'under', 'again', 'further', 'then', 'once', 'here', 'there', 'when', 'where', 'why', 'how', 'all', 'any', 'both', 'each', 'few', 'more', 'most', 'other', 'some', 'such', 'no', 'nor', 'only', 'own', 'same', 'so', 'than', 'too', 'very', 's', 't', 'can', 'will', 'just', 'don', \"don't\", 'should', \"should've\", 'now', 'd', 'll', 'm', 'o', 're', 've', 'y', 'ain', 'aren', \"aren't\", 'couldn', \"couldn't\", 'didn', \"didn't\", 'doesn', \"doesn't\", 'hadn', \"hadn't\", 'hasn', \"hasn't\", 'haven', \"haven't\", 'isn', \"isn't\", 'ma', 'mightn', \"mightn't\", 'mustn', \"mustn't\", 'needn', \"needn't\", 'shan', \"shan't\", 'shouldn', \"shouldn't\", 'wasn', \"wasn't\", 'weren', \"weren't\", 'won', \"won't\", 'wouldn', \"wouldn't\"]\n",
    "punkts='''\"#$%&\\'()*+,-./:;<=>@[\\\\]^_`{|}~'''"
   ]
  },
  {
   "cell_type": "code",
   "execution_count": 15,
   "id": "temporal-growing",
   "metadata": {},
   "outputs": [],
   "source": [
    "def CorFilt(i):\n",
    "    ps = PorterStemmer()\n",
    "    \n",
    "    buff=word_tokenize(i.lower().replace(\"\\n\",\"\").replace(\"  \",\" \").replace(\"n't\",\" not\"))\n",
    "    buff2=\"\"\n",
    "    for j in pos_tag(buff):\n",
    "        if j[-1]=='RB' and j[0]!=\"not\":\n",
    "            pass\n",
    "        else:\n",
    "            buff2+=j[0]+\" \"\n",
    "    buff2=buff2.replace(\"not \",\"NOT\")\n",
    "    buff=word_tokenize(buff2.strip())\n",
    "    ans=\"\"\n",
    "    for j in buff:\n",
    "        if (j not in punkts) and (j not in stopwords):\n",
    "            if j==\"!\":\n",
    "                ans+=\" XXEXCLMARK\"\n",
    "            elif j==\"?\":\n",
    "                ans+=\" XXQUESMARK\"\n",
    "            else:\n",
    "                if j!=\"'s\" and j!=\"``\":\n",
    "                    ans+=\" \"+ps.stem(j)\n",
    "    return ans.strip()"
   ]
  },
  {
   "cell_type": "code",
   "execution_count": 13,
   "id": "virtual-symposium",
   "metadata": {},
   "outputs": [],
   "source": [
    "import pickle\n",
    "f=open(\"EmoVec\",\"rb\")\n",
    "EmoVec=pickle.load(f)\n",
    "f.close()\n",
    "\n",
    "f=open(\"vectorizer\",\"rb\")\n",
    "vectorizer=pickle.load(f)\n",
    "f.close()"
   ]
  },
  {
   "cell_type": "code",
   "execution_count": 14,
   "id": "killing-engineering",
   "metadata": {},
   "outputs": [],
   "source": [
    "def EmowavE(sent,vectorizer=vectorizer,EmoVec=EmoVec,trans=True):\n",
    "    \n",
    "    transDict={'gu':'Gujarati',\n",
    "               'hi':'Hindi'}\n",
    "    # Translate from any language to english\n",
    "    if trans:\n",
    "        analysis = TextBlob(sent)\n",
    "        if analysis.detect_language()!='en':\n",
    "            try:\n",
    "                print(f\"\\nInput text was in {transDict[analysis.detect_language()]}\")\n",
    "            except:\n",
    "                print(f\"\\nInput text was not in English\")\n",
    "            print(\"\\nTranslating...\")\n",
    "            output=subprocess.check_output(['trans','-b',sent])\n",
    "            sent=output.decode('utf-8').strip()\n",
    "            print(f\"\\nTranslation in English: {sent}\")\n",
    "        \n",
    "    EmoBuff=vectorizer.transform([CorFilt(sent)])\n",
    "    EmoDict={0:'anger',\n",
    "             1:'disgust',\n",
    "             2:'fear',\n",
    "             3:'joy',\n",
    "             4:'sadness'}\n",
    "    return EmoDict[np.argmax([float(cosine_similarity(EmoBuff.reshape(-1,1).T,EmoVec[i].reshape(-1,1).T)) for i in range(EmoVec.shape[0])])]"
   ]
  },
  {
   "cell_type": "code",
   "execution_count": 17,
   "id": "floral-regression",
   "metadata": {},
   "outputs": [
    {
     "name": "stdout",
     "output_type": "stream",
     "text": [
      "\n",
      "\t>>> Emotion: fear\n"
     ]
    }
   ],
   "source": [
    "print(f\"\\n\\t>>> Emotion: {EmowavE('a perfectly parceled dead body')}\")"
   ]
  }
 ],
 "metadata": {
  "kernelspec": {
   "display_name": "Python 3",
   "language": "python",
   "name": "python3"
  },
  "language_info": {
   "codemirror_mode": {
    "name": "ipython",
    "version": 3
   },
   "file_extension": ".py",
   "mimetype": "text/x-python",
   "name": "python",
   "nbconvert_exporter": "python",
   "pygments_lexer": "ipython3",
   "version": "3.8.9"
  }
 },
 "nbformat": 4,
 "nbformat_minor": 5
}
